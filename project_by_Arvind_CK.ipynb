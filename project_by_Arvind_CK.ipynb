{
  "nbformat": 4,
  "nbformat_minor": 0,
  "metadata": {
    "colab": {
      "name": "project by Arvind CK.ipynb",
      "provenance": [],
      "collapsed_sections": [],
      "authorship_tag": "ABX9TyPJKtEb1YjdTzrAWN5l8/Gq",
      "include_colab_link": true
    },
    "kernelspec": {
      "name": "python3",
      "display_name": "Python 3"
    }
  },
  "cells": [
    {
      "cell_type": "markdown",
      "metadata": {
        "id": "view-in-github",
        "colab_type": "text"
      },
      "source": [
        "<a href=\"https://colab.research.google.com/github/arvindck/Internship-project-by-Arvind-CK/blob/master/project_by_Arvind_CK.ipynb\" target=\"_parent\"><img src=\"https://colab.research.google.com/assets/colab-badge.svg\" alt=\"Open In Colab\"/></a>"
      ]
    },
    {
      "cell_type": "markdown",
      "metadata": {
        "id": "R8B66PYsMM1T",
        "colab_type": "text"
      },
      "source": [
        "**NAME: ARVIND C K**"
      ]
    },
    {
      "cell_type": "markdown",
      "metadata": {
        "id": "36CXy6ngFO9Q",
        "colab_type": "text"
      },
      "source": [
        "**The aim of this project is to do EDA and predict the car prices. Since the output or the dependent variable i.e car prices is continous and not categorical, it is a regression problem.**"
      ]
    },
    {
      "cell_type": "markdown",
      "metadata": {
        "id": "onrQCEVUF7Cd",
        "colab_type": "text"
      },
      "source": [
        "**STEP - 1: IMPORTING THE DATASET, LIBRARIES, CHECKING DATATYPES, STATISTICAL SUMMARY, SHAPE, NULL VALUES ETC:-**\n",
        "\n"
      ]
    },
    {
      "cell_type": "markdown",
      "metadata": {
        "id": "1MbeHNMZdpJI",
        "colab_type": "text"
      },
      "source": [
        "First we import the neccessary libraries and the dataset required for the project"
      ]
    },
    {
      "cell_type": "code",
      "metadata": {
        "id": "Uh3hRPB462Pv",
        "colab_type": "code",
        "colab": {}
      },
      "source": [
        "#importing the libraries i.e pandas, numpy, seaborn and matplotlib\n",
        "import pandas as pd\n",
        "import numpy as np\n",
        "import seaborn as sns\n",
        "import matplotlib.pyplot as plt"
      ],
      "execution_count": 1962,
      "outputs": []
    },
    {
      "cell_type": "code",
      "metadata": {
        "id": "c3WIxgfL687-",
        "colab_type": "code",
        "colab": {}
      },
      "source": [
        "#importing the dataset\n",
        "dataset=pd.read_csv('/content/data.csv')"
      ],
      "execution_count": 1963,
      "outputs": []
    },
    {
      "cell_type": "markdown",
      "metadata": {
        "id": "3_A9w1oAdxkO",
        "colab_type": "text"
      },
      "source": [
        "After importing, we check the details about the dataset such as first 5 rows, last 5 rows, datatype, shape, null values etc"
      ]
    },
    {
      "cell_type": "code",
      "metadata": {
        "id": "29_iS_hF68-f",
        "colab_type": "code",
        "colab": {
          "base_uri": "https://localhost:8080/",
          "height": 408
        },
        "outputId": "ef827939-b081-4359-dac5-e99fdabc0f4b"
      },
      "source": [
        "#this gives the first 5 rows of the dataset\n",
        "dataset.head()"
      ],
      "execution_count": 1964,
      "outputs": [
        {
          "output_type": "execute_result",
          "data": {
            "text/html": [
              "<div>\n",
              "<style scoped>\n",
              "    .dataframe tbody tr th:only-of-type {\n",
              "        vertical-align: middle;\n",
              "    }\n",
              "\n",
              "    .dataframe tbody tr th {\n",
              "        vertical-align: top;\n",
              "    }\n",
              "\n",
              "    .dataframe thead th {\n",
              "        text-align: right;\n",
              "    }\n",
              "</style>\n",
              "<table border=\"1\" class=\"dataframe\">\n",
              "  <thead>\n",
              "    <tr style=\"text-align: right;\">\n",
              "      <th></th>\n",
              "      <th>Make</th>\n",
              "      <th>Model</th>\n",
              "      <th>Year</th>\n",
              "      <th>Engine Fuel Type</th>\n",
              "      <th>Engine HP</th>\n",
              "      <th>Engine Cylinders</th>\n",
              "      <th>Transmission Type</th>\n",
              "      <th>Driven_Wheels</th>\n",
              "      <th>Number of Doors</th>\n",
              "      <th>Market Category</th>\n",
              "      <th>Vehicle Size</th>\n",
              "      <th>Vehicle Style</th>\n",
              "      <th>highway MPG</th>\n",
              "      <th>city mpg</th>\n",
              "      <th>Popularity</th>\n",
              "      <th>MSRP</th>\n",
              "    </tr>\n",
              "  </thead>\n",
              "  <tbody>\n",
              "    <tr>\n",
              "      <th>0</th>\n",
              "      <td>BMW</td>\n",
              "      <td>1 Series M</td>\n",
              "      <td>2011</td>\n",
              "      <td>premium unleaded (required)</td>\n",
              "      <td>335.0</td>\n",
              "      <td>6.0</td>\n",
              "      <td>MANUAL</td>\n",
              "      <td>rear wheel drive</td>\n",
              "      <td>2.0</td>\n",
              "      <td>Factory Tuner,Luxury,High-Performance</td>\n",
              "      <td>Compact</td>\n",
              "      <td>Coupe</td>\n",
              "      <td>26</td>\n",
              "      <td>19</td>\n",
              "      <td>3916</td>\n",
              "      <td>46135</td>\n",
              "    </tr>\n",
              "    <tr>\n",
              "      <th>1</th>\n",
              "      <td>BMW</td>\n",
              "      <td>1 Series</td>\n",
              "      <td>2011</td>\n",
              "      <td>premium unleaded (required)</td>\n",
              "      <td>300.0</td>\n",
              "      <td>6.0</td>\n",
              "      <td>MANUAL</td>\n",
              "      <td>rear wheel drive</td>\n",
              "      <td>2.0</td>\n",
              "      <td>Luxury,Performance</td>\n",
              "      <td>Compact</td>\n",
              "      <td>Convertible</td>\n",
              "      <td>28</td>\n",
              "      <td>19</td>\n",
              "      <td>3916</td>\n",
              "      <td>40650</td>\n",
              "    </tr>\n",
              "    <tr>\n",
              "      <th>2</th>\n",
              "      <td>BMW</td>\n",
              "      <td>1 Series</td>\n",
              "      <td>2011</td>\n",
              "      <td>premium unleaded (required)</td>\n",
              "      <td>300.0</td>\n",
              "      <td>6.0</td>\n",
              "      <td>MANUAL</td>\n",
              "      <td>rear wheel drive</td>\n",
              "      <td>2.0</td>\n",
              "      <td>Luxury,High-Performance</td>\n",
              "      <td>Compact</td>\n",
              "      <td>Coupe</td>\n",
              "      <td>28</td>\n",
              "      <td>20</td>\n",
              "      <td>3916</td>\n",
              "      <td>36350</td>\n",
              "    </tr>\n",
              "    <tr>\n",
              "      <th>3</th>\n",
              "      <td>BMW</td>\n",
              "      <td>1 Series</td>\n",
              "      <td>2011</td>\n",
              "      <td>premium unleaded (required)</td>\n",
              "      <td>230.0</td>\n",
              "      <td>6.0</td>\n",
              "      <td>MANUAL</td>\n",
              "      <td>rear wheel drive</td>\n",
              "      <td>2.0</td>\n",
              "      <td>Luxury,Performance</td>\n",
              "      <td>Compact</td>\n",
              "      <td>Coupe</td>\n",
              "      <td>28</td>\n",
              "      <td>18</td>\n",
              "      <td>3916</td>\n",
              "      <td>29450</td>\n",
              "    </tr>\n",
              "    <tr>\n",
              "      <th>4</th>\n",
              "      <td>BMW</td>\n",
              "      <td>1 Series</td>\n",
              "      <td>2011</td>\n",
              "      <td>premium unleaded (required)</td>\n",
              "      <td>230.0</td>\n",
              "      <td>6.0</td>\n",
              "      <td>MANUAL</td>\n",
              "      <td>rear wheel drive</td>\n",
              "      <td>2.0</td>\n",
              "      <td>Luxury</td>\n",
              "      <td>Compact</td>\n",
              "      <td>Convertible</td>\n",
              "      <td>28</td>\n",
              "      <td>18</td>\n",
              "      <td>3916</td>\n",
              "      <td>34500</td>\n",
              "    </tr>\n",
              "  </tbody>\n",
              "</table>\n",
              "</div>"
            ],
            "text/plain": [
              "  Make       Model  Year  ... city mpg  Popularity   MSRP\n",
              "0  BMW  1 Series M  2011  ...       19        3916  46135\n",
              "1  BMW    1 Series  2011  ...       19        3916  40650\n",
              "2  BMW    1 Series  2011  ...       20        3916  36350\n",
              "3  BMW    1 Series  2011  ...       18        3916  29450\n",
              "4  BMW    1 Series  2011  ...       18        3916  34500\n",
              "\n",
              "[5 rows x 16 columns]"
            ]
          },
          "metadata": {
            "tags": []
          },
          "execution_count": 1964
        }
      ]
    },
    {
      "cell_type": "code",
      "metadata": {
        "id": "LMMo3mVf69A6",
        "colab_type": "code",
        "colab": {
          "base_uri": "https://localhost:8080/",
          "height": 411
        },
        "outputId": "544fd8e0-fe82-476b-fe34-c3923bbcf09a"
      },
      "source": [
        "#this gives the last 5 rows of the dataset\n",
        "dataset.tail()"
      ],
      "execution_count": 1965,
      "outputs": [
        {
          "output_type": "execute_result",
          "data": {
            "text/html": [
              "<div>\n",
              "<style scoped>\n",
              "    .dataframe tbody tr th:only-of-type {\n",
              "        vertical-align: middle;\n",
              "    }\n",
              "\n",
              "    .dataframe tbody tr th {\n",
              "        vertical-align: top;\n",
              "    }\n",
              "\n",
              "    .dataframe thead th {\n",
              "        text-align: right;\n",
              "    }\n",
              "</style>\n",
              "<table border=\"1\" class=\"dataframe\">\n",
              "  <thead>\n",
              "    <tr style=\"text-align: right;\">\n",
              "      <th></th>\n",
              "      <th>Make</th>\n",
              "      <th>Model</th>\n",
              "      <th>Year</th>\n",
              "      <th>Engine Fuel Type</th>\n",
              "      <th>Engine HP</th>\n",
              "      <th>Engine Cylinders</th>\n",
              "      <th>Transmission Type</th>\n",
              "      <th>Driven_Wheels</th>\n",
              "      <th>Number of Doors</th>\n",
              "      <th>Market Category</th>\n",
              "      <th>Vehicle Size</th>\n",
              "      <th>Vehicle Style</th>\n",
              "      <th>highway MPG</th>\n",
              "      <th>city mpg</th>\n",
              "      <th>Popularity</th>\n",
              "      <th>MSRP</th>\n",
              "    </tr>\n",
              "  </thead>\n",
              "  <tbody>\n",
              "    <tr>\n",
              "      <th>11909</th>\n",
              "      <td>Acura</td>\n",
              "      <td>ZDX</td>\n",
              "      <td>2012</td>\n",
              "      <td>premium unleaded (required)</td>\n",
              "      <td>300.0</td>\n",
              "      <td>6.0</td>\n",
              "      <td>AUTOMATIC</td>\n",
              "      <td>all wheel drive</td>\n",
              "      <td>4.0</td>\n",
              "      <td>Crossover,Hatchback,Luxury</td>\n",
              "      <td>Midsize</td>\n",
              "      <td>4dr Hatchback</td>\n",
              "      <td>23</td>\n",
              "      <td>16</td>\n",
              "      <td>204</td>\n",
              "      <td>46120</td>\n",
              "    </tr>\n",
              "    <tr>\n",
              "      <th>11910</th>\n",
              "      <td>Acura</td>\n",
              "      <td>ZDX</td>\n",
              "      <td>2012</td>\n",
              "      <td>premium unleaded (required)</td>\n",
              "      <td>300.0</td>\n",
              "      <td>6.0</td>\n",
              "      <td>AUTOMATIC</td>\n",
              "      <td>all wheel drive</td>\n",
              "      <td>4.0</td>\n",
              "      <td>Crossover,Hatchback,Luxury</td>\n",
              "      <td>Midsize</td>\n",
              "      <td>4dr Hatchback</td>\n",
              "      <td>23</td>\n",
              "      <td>16</td>\n",
              "      <td>204</td>\n",
              "      <td>56670</td>\n",
              "    </tr>\n",
              "    <tr>\n",
              "      <th>11911</th>\n",
              "      <td>Acura</td>\n",
              "      <td>ZDX</td>\n",
              "      <td>2012</td>\n",
              "      <td>premium unleaded (required)</td>\n",
              "      <td>300.0</td>\n",
              "      <td>6.0</td>\n",
              "      <td>AUTOMATIC</td>\n",
              "      <td>all wheel drive</td>\n",
              "      <td>4.0</td>\n",
              "      <td>Crossover,Hatchback,Luxury</td>\n",
              "      <td>Midsize</td>\n",
              "      <td>4dr Hatchback</td>\n",
              "      <td>23</td>\n",
              "      <td>16</td>\n",
              "      <td>204</td>\n",
              "      <td>50620</td>\n",
              "    </tr>\n",
              "    <tr>\n",
              "      <th>11912</th>\n",
              "      <td>Acura</td>\n",
              "      <td>ZDX</td>\n",
              "      <td>2013</td>\n",
              "      <td>premium unleaded (recommended)</td>\n",
              "      <td>300.0</td>\n",
              "      <td>6.0</td>\n",
              "      <td>AUTOMATIC</td>\n",
              "      <td>all wheel drive</td>\n",
              "      <td>4.0</td>\n",
              "      <td>Crossover,Hatchback,Luxury</td>\n",
              "      <td>Midsize</td>\n",
              "      <td>4dr Hatchback</td>\n",
              "      <td>23</td>\n",
              "      <td>16</td>\n",
              "      <td>204</td>\n",
              "      <td>50920</td>\n",
              "    </tr>\n",
              "    <tr>\n",
              "      <th>11913</th>\n",
              "      <td>Lincoln</td>\n",
              "      <td>Zephyr</td>\n",
              "      <td>2006</td>\n",
              "      <td>regular unleaded</td>\n",
              "      <td>221.0</td>\n",
              "      <td>6.0</td>\n",
              "      <td>AUTOMATIC</td>\n",
              "      <td>front wheel drive</td>\n",
              "      <td>4.0</td>\n",
              "      <td>Luxury</td>\n",
              "      <td>Midsize</td>\n",
              "      <td>Sedan</td>\n",
              "      <td>26</td>\n",
              "      <td>17</td>\n",
              "      <td>61</td>\n",
              "      <td>28995</td>\n",
              "    </tr>\n",
              "  </tbody>\n",
              "</table>\n",
              "</div>"
            ],
            "text/plain": [
              "          Make   Model  Year  ... city mpg  Popularity   MSRP\n",
              "11909    Acura     ZDX  2012  ...       16         204  46120\n",
              "11910    Acura     ZDX  2012  ...       16         204  56670\n",
              "11911    Acura     ZDX  2012  ...       16         204  50620\n",
              "11912    Acura     ZDX  2013  ...       16         204  50920\n",
              "11913  Lincoln  Zephyr  2006  ...       17          61  28995\n",
              "\n",
              "[5 rows x 16 columns]"
            ]
          },
          "metadata": {
            "tags": []
          },
          "execution_count": 1965
        }
      ]
    },
    {
      "cell_type": "code",
      "metadata": {
        "id": "QPpyLX6s69DA",
        "colab_type": "code",
        "colab": {
          "base_uri": "https://localhost:8080/",
          "height": 34
        },
        "outputId": "1d6894d0-db33-46cd-f6d1-be949a9ae13f"
      },
      "source": [
        "#this gives how many rows and how many columns are there in the dataset i.e the dimension of the dataset\n",
        "dataset.shape"
      ],
      "execution_count": 1966,
      "outputs": [
        {
          "output_type": "execute_result",
          "data": {
            "text/plain": [
              "(11914, 16)"
            ]
          },
          "metadata": {
            "tags": []
          },
          "execution_count": 1966
        }
      ]
    },
    {
      "cell_type": "code",
      "metadata": {
        "id": "-AbKNs7u69Hd",
        "colab_type": "code",
        "colab": {
          "base_uri": "https://localhost:8080/",
          "height": 408
        },
        "outputId": "187475e8-f703-4d9e-eb2d-fc5b3f5a2489"
      },
      "source": [
        "#this gives information about the dataset like how many rows are there, what are the column names, what are the datatypes of each column etc\n",
        "dataset.info()"
      ],
      "execution_count": 1967,
      "outputs": [
        {
          "output_type": "stream",
          "text": [
            "<class 'pandas.core.frame.DataFrame'>\n",
            "RangeIndex: 11914 entries, 0 to 11913\n",
            "Data columns (total 16 columns):\n",
            " #   Column             Non-Null Count  Dtype  \n",
            "---  ------             --------------  -----  \n",
            " 0   Make               11914 non-null  object \n",
            " 1   Model              11914 non-null  object \n",
            " 2   Year               11914 non-null  int64  \n",
            " 3   Engine Fuel Type   11911 non-null  object \n",
            " 4   Engine HP          11845 non-null  float64\n",
            " 5   Engine Cylinders   11884 non-null  float64\n",
            " 6   Transmission Type  11914 non-null  object \n",
            " 7   Driven_Wheels      11914 non-null  object \n",
            " 8   Number of Doors    11908 non-null  float64\n",
            " 9   Market Category    8172 non-null   object \n",
            " 10  Vehicle Size       11914 non-null  object \n",
            " 11  Vehicle Style      11914 non-null  object \n",
            " 12  highway MPG        11914 non-null  int64  \n",
            " 13  city mpg           11914 non-null  int64  \n",
            " 14  Popularity         11914 non-null  int64  \n",
            " 15  MSRP               11914 non-null  int64  \n",
            "dtypes: float64(3), int64(5), object(8)\n",
            "memory usage: 1.5+ MB\n"
          ],
          "name": "stdout"
        }
      ]
    },
    {
      "cell_type": "code",
      "metadata": {
        "id": "_pXnX5MD69MD",
        "colab_type": "code",
        "colab": {
          "base_uri": "https://localhost:8080/",
          "height": 297
        },
        "outputId": "686d25cc-a5fd-4d47-972b-6274c64ad384"
      },
      "source": [
        "#this is used to describe the dataset i.e it gives the count, mean, std, min. value, max. value etc of the values in each column\n",
        "#it gives only those columns which contain integer or float values since mean, min, max etc cannot be calculated for non numeric data\n",
        "dataset.describe()"
      ],
      "execution_count": 1968,
      "outputs": [
        {
          "output_type": "execute_result",
          "data": {
            "text/html": [
              "<div>\n",
              "<style scoped>\n",
              "    .dataframe tbody tr th:only-of-type {\n",
              "        vertical-align: middle;\n",
              "    }\n",
              "\n",
              "    .dataframe tbody tr th {\n",
              "        vertical-align: top;\n",
              "    }\n",
              "\n",
              "    .dataframe thead th {\n",
              "        text-align: right;\n",
              "    }\n",
              "</style>\n",
              "<table border=\"1\" class=\"dataframe\">\n",
              "  <thead>\n",
              "    <tr style=\"text-align: right;\">\n",
              "      <th></th>\n",
              "      <th>Year</th>\n",
              "      <th>Engine HP</th>\n",
              "      <th>Engine Cylinders</th>\n",
              "      <th>Number of Doors</th>\n",
              "      <th>highway MPG</th>\n",
              "      <th>city mpg</th>\n",
              "      <th>Popularity</th>\n",
              "      <th>MSRP</th>\n",
              "    </tr>\n",
              "  </thead>\n",
              "  <tbody>\n",
              "    <tr>\n",
              "      <th>count</th>\n",
              "      <td>11914.000000</td>\n",
              "      <td>11845.00000</td>\n",
              "      <td>11884.000000</td>\n",
              "      <td>11908.000000</td>\n",
              "      <td>11914.000000</td>\n",
              "      <td>11914.000000</td>\n",
              "      <td>11914.000000</td>\n",
              "      <td>1.191400e+04</td>\n",
              "    </tr>\n",
              "    <tr>\n",
              "      <th>mean</th>\n",
              "      <td>2010.384338</td>\n",
              "      <td>249.38607</td>\n",
              "      <td>5.628829</td>\n",
              "      <td>3.436093</td>\n",
              "      <td>26.637485</td>\n",
              "      <td>19.733255</td>\n",
              "      <td>1554.911197</td>\n",
              "      <td>4.059474e+04</td>\n",
              "    </tr>\n",
              "    <tr>\n",
              "      <th>std</th>\n",
              "      <td>7.579740</td>\n",
              "      <td>109.19187</td>\n",
              "      <td>1.780559</td>\n",
              "      <td>0.881315</td>\n",
              "      <td>8.863001</td>\n",
              "      <td>8.987798</td>\n",
              "      <td>1441.855347</td>\n",
              "      <td>6.010910e+04</td>\n",
              "    </tr>\n",
              "    <tr>\n",
              "      <th>min</th>\n",
              "      <td>1990.000000</td>\n",
              "      <td>55.00000</td>\n",
              "      <td>0.000000</td>\n",
              "      <td>2.000000</td>\n",
              "      <td>12.000000</td>\n",
              "      <td>7.000000</td>\n",
              "      <td>2.000000</td>\n",
              "      <td>2.000000e+03</td>\n",
              "    </tr>\n",
              "    <tr>\n",
              "      <th>25%</th>\n",
              "      <td>2007.000000</td>\n",
              "      <td>170.00000</td>\n",
              "      <td>4.000000</td>\n",
              "      <td>2.000000</td>\n",
              "      <td>22.000000</td>\n",
              "      <td>16.000000</td>\n",
              "      <td>549.000000</td>\n",
              "      <td>2.100000e+04</td>\n",
              "    </tr>\n",
              "    <tr>\n",
              "      <th>50%</th>\n",
              "      <td>2015.000000</td>\n",
              "      <td>227.00000</td>\n",
              "      <td>6.000000</td>\n",
              "      <td>4.000000</td>\n",
              "      <td>26.000000</td>\n",
              "      <td>18.000000</td>\n",
              "      <td>1385.000000</td>\n",
              "      <td>2.999500e+04</td>\n",
              "    </tr>\n",
              "    <tr>\n",
              "      <th>75%</th>\n",
              "      <td>2016.000000</td>\n",
              "      <td>300.00000</td>\n",
              "      <td>6.000000</td>\n",
              "      <td>4.000000</td>\n",
              "      <td>30.000000</td>\n",
              "      <td>22.000000</td>\n",
              "      <td>2009.000000</td>\n",
              "      <td>4.223125e+04</td>\n",
              "    </tr>\n",
              "    <tr>\n",
              "      <th>max</th>\n",
              "      <td>2017.000000</td>\n",
              "      <td>1001.00000</td>\n",
              "      <td>16.000000</td>\n",
              "      <td>4.000000</td>\n",
              "      <td>354.000000</td>\n",
              "      <td>137.000000</td>\n",
              "      <td>5657.000000</td>\n",
              "      <td>2.065902e+06</td>\n",
              "    </tr>\n",
              "  </tbody>\n",
              "</table>\n",
              "</div>"
            ],
            "text/plain": [
              "               Year    Engine HP  ...    Popularity          MSRP\n",
              "count  11914.000000  11845.00000  ...  11914.000000  1.191400e+04\n",
              "mean    2010.384338    249.38607  ...   1554.911197  4.059474e+04\n",
              "std        7.579740    109.19187  ...   1441.855347  6.010910e+04\n",
              "min     1990.000000     55.00000  ...      2.000000  2.000000e+03\n",
              "25%     2007.000000    170.00000  ...    549.000000  2.100000e+04\n",
              "50%     2015.000000    227.00000  ...   1385.000000  2.999500e+04\n",
              "75%     2016.000000    300.00000  ...   2009.000000  4.223125e+04\n",
              "max     2017.000000   1001.00000  ...   5657.000000  2.065902e+06\n",
              "\n",
              "[8 rows x 8 columns]"
            ]
          },
          "metadata": {
            "tags": []
          },
          "execution_count": 1968
        }
      ]
    },
    {
      "cell_type": "code",
      "metadata": {
        "id": "2wfItakt69Qe",
        "colab_type": "code",
        "colab": {
          "base_uri": "https://localhost:8080/",
          "height": 306
        },
        "outputId": "9629de8e-3f84-4465-975f-8e9bdce5b9c7"
      },
      "source": [
        "#this gives the datatype of each column i.e datatype of the data contained in each column\n",
        "dataset.dtypes"
      ],
      "execution_count": 1969,
      "outputs": [
        {
          "output_type": "execute_result",
          "data": {
            "text/plain": [
              "Make                  object\n",
              "Model                 object\n",
              "Year                   int64\n",
              "Engine Fuel Type      object\n",
              "Engine HP            float64\n",
              "Engine Cylinders     float64\n",
              "Transmission Type     object\n",
              "Driven_Wheels         object\n",
              "Number of Doors      float64\n",
              "Market Category       object\n",
              "Vehicle Size          object\n",
              "Vehicle Style         object\n",
              "highway MPG            int64\n",
              "city mpg               int64\n",
              "Popularity             int64\n",
              "MSRP                   int64\n",
              "dtype: object"
            ]
          },
          "metadata": {
            "tags": []
          },
          "execution_count": 1969
        }
      ]
    },
    {
      "cell_type": "code",
      "metadata": {
        "id": "z0vRURl669TD",
        "colab_type": "code",
        "colab": {
          "base_uri": "https://localhost:8080/",
          "height": 102
        },
        "outputId": "811abe9d-3031-416a-901f-a2f288e3dc7b"
      },
      "source": [
        "#this gives a list of all the column names in the dataset\n",
        "dataset.columns"
      ],
      "execution_count": 1970,
      "outputs": [
        {
          "output_type": "execute_result",
          "data": {
            "text/plain": [
              "Index(['Make', 'Model', 'Year', 'Engine Fuel Type', 'Engine HP',\n",
              "       'Engine Cylinders', 'Transmission Type', 'Driven_Wheels',\n",
              "       'Number of Doors', 'Market Category', 'Vehicle Size', 'Vehicle Style',\n",
              "       'highway MPG', 'city mpg', 'Popularity', 'MSRP'],\n",
              "      dtype='object')"
            ]
          },
          "metadata": {
            "tags": []
          },
          "execution_count": 1970
        }
      ]
    },
    {
      "cell_type": "code",
      "metadata": {
        "id": "iV1RGZOpHY_t",
        "colab_type": "code",
        "colab": {
          "base_uri": "https://localhost:8080/",
          "height": 306
        },
        "outputId": "da326a50-3ee8-4b4e-fdd7-10ae0443ea34"
      },
      "source": [
        "#this tells whether null values are present in each column or not\n",
        "#True indicates that null values are present in that particular column and False indicates that null values are not present\n",
        "dataset.isnull().any()"
      ],
      "execution_count": 1971,
      "outputs": [
        {
          "output_type": "execute_result",
          "data": {
            "text/plain": [
              "Make                 False\n",
              "Model                False\n",
              "Year                 False\n",
              "Engine Fuel Type      True\n",
              "Engine HP             True\n",
              "Engine Cylinders      True\n",
              "Transmission Type    False\n",
              "Driven_Wheels        False\n",
              "Number of Doors       True\n",
              "Market Category       True\n",
              "Vehicle Size         False\n",
              "Vehicle Style        False\n",
              "highway MPG          False\n",
              "city mpg             False\n",
              "Popularity           False\n",
              "MSRP                 False\n",
              "dtype: bool"
            ]
          },
          "metadata": {
            "tags": []
          },
          "execution_count": 1971
        }
      ]
    },
    {
      "cell_type": "code",
      "metadata": {
        "id": "PErgx7VUFYsQ",
        "colab_type": "code",
        "colab": {
          "base_uri": "https://localhost:8080/",
          "height": 34
        },
        "outputId": "195a1c40-378d-43ff-9cbe-0613adbf3a0e"
      },
      "source": [
        "dataset.shape"
      ],
      "execution_count": 1972,
      "outputs": [
        {
          "output_type": "execute_result",
          "data": {
            "text/plain": [
              "(11914, 16)"
            ]
          },
          "metadata": {
            "tags": []
          },
          "execution_count": 1972
        }
      ]
    },
    {
      "cell_type": "markdown",
      "metadata": {
        "id": "aHfa56nFG1Vr",
        "colab_type": "text"
      },
      "source": [
        "**STEP - 2: DROPPING THE IRRELEVANT COLUMNS:-**"
      ]
    },
    {
      "cell_type": "code",
      "metadata": {
        "id": "fBaaHVmXu41Q",
        "colab_type": "code",
        "colab": {}
      },
      "source": [
        "#this is used to drop certain columns in the dataset\n",
        "dataset.drop(['Number of Doors','Market Category'],axis=1,inplace=True)"
      ],
      "execution_count": 1973,
      "outputs": []
    },
    {
      "cell_type": "markdown",
      "metadata": {
        "id": "a8MK73IIdV4H",
        "colab_type": "text"
      },
      "source": [
        "Here we observe that 'Number of Doors' and 'Market Category' does not affect the Price of the car. Hence we do not require these columns so we drop them."
      ]
    },
    {
      "cell_type": "code",
      "metadata": {
        "id": "rfZ52IiqvnlX",
        "colab_type": "code",
        "colab": {
          "base_uri": "https://localhost:8080/",
          "height": 34
        },
        "outputId": "3637355c-bd42-45be-98fa-5cda0ab17115"
      },
      "source": [
        "#this is the new shape after dropping the columns\n",
        "dataset.shape"
      ],
      "execution_count": 1974,
      "outputs": [
        {
          "output_type": "execute_result",
          "data": {
            "text/plain": [
              "(11914, 14)"
            ]
          },
          "metadata": {
            "tags": []
          },
          "execution_count": 1974
        }
      ]
    },
    {
      "cell_type": "markdown",
      "metadata": {
        "id": "wR_rGH_RHGiU",
        "colab_type": "text"
      },
      "source": [
        "**STEP - 3: RENAMING THE COLUMN NAMES:-**"
      ]
    },
    {
      "cell_type": "markdown",
      "metadata": {
        "id": "LMKCI5YYew4p",
        "colab_type": "text"
      },
      "source": [
        "Now we rename the column names"
      ]
    },
    {
      "cell_type": "code",
      "metadata": {
        "id": "QA870VMA69Xr",
        "colab_type": "code",
        "colab": {}
      },
      "source": [
        "#renaming the columns\n",
        "dataset.rename(columns={'Engine HP':'HP','Engine Cylinders':'Cylinders','Transmission Type':'Transmission','Driven_Wheels':'Drive Mode','highway MPG':'mpg-H','city mpg':'mpg-C','MSRP':'Price'},inplace=True)\n"
      ],
      "execution_count": 1975,
      "outputs": []
    },
    {
      "cell_type": "code",
      "metadata": {
        "id": "3j6xqYty69aB",
        "colab_type": "code",
        "colab": {
          "base_uri": "https://localhost:8080/",
          "height": 204
        },
        "outputId": "0cd84c6a-ffae-4a36-81e3-12d1f99cad9e"
      },
      "source": [
        "dataset.head()"
      ],
      "execution_count": 1976,
      "outputs": [
        {
          "output_type": "execute_result",
          "data": {
            "text/html": [
              "<div>\n",
              "<style scoped>\n",
              "    .dataframe tbody tr th:only-of-type {\n",
              "        vertical-align: middle;\n",
              "    }\n",
              "\n",
              "    .dataframe tbody tr th {\n",
              "        vertical-align: top;\n",
              "    }\n",
              "\n",
              "    .dataframe thead th {\n",
              "        text-align: right;\n",
              "    }\n",
              "</style>\n",
              "<table border=\"1\" class=\"dataframe\">\n",
              "  <thead>\n",
              "    <tr style=\"text-align: right;\">\n",
              "      <th></th>\n",
              "      <th>Make</th>\n",
              "      <th>Model</th>\n",
              "      <th>Year</th>\n",
              "      <th>Engine Fuel Type</th>\n",
              "      <th>HP</th>\n",
              "      <th>Cylinders</th>\n",
              "      <th>Transmission</th>\n",
              "      <th>Drive Mode</th>\n",
              "      <th>Vehicle Size</th>\n",
              "      <th>Vehicle Style</th>\n",
              "      <th>mpg-H</th>\n",
              "      <th>mpg-C</th>\n",
              "      <th>Popularity</th>\n",
              "      <th>Price</th>\n",
              "    </tr>\n",
              "  </thead>\n",
              "  <tbody>\n",
              "    <tr>\n",
              "      <th>0</th>\n",
              "      <td>BMW</td>\n",
              "      <td>1 Series M</td>\n",
              "      <td>2011</td>\n",
              "      <td>premium unleaded (required)</td>\n",
              "      <td>335.0</td>\n",
              "      <td>6.0</td>\n",
              "      <td>MANUAL</td>\n",
              "      <td>rear wheel drive</td>\n",
              "      <td>Compact</td>\n",
              "      <td>Coupe</td>\n",
              "      <td>26</td>\n",
              "      <td>19</td>\n",
              "      <td>3916</td>\n",
              "      <td>46135</td>\n",
              "    </tr>\n",
              "    <tr>\n",
              "      <th>1</th>\n",
              "      <td>BMW</td>\n",
              "      <td>1 Series</td>\n",
              "      <td>2011</td>\n",
              "      <td>premium unleaded (required)</td>\n",
              "      <td>300.0</td>\n",
              "      <td>6.0</td>\n",
              "      <td>MANUAL</td>\n",
              "      <td>rear wheel drive</td>\n",
              "      <td>Compact</td>\n",
              "      <td>Convertible</td>\n",
              "      <td>28</td>\n",
              "      <td>19</td>\n",
              "      <td>3916</td>\n",
              "      <td>40650</td>\n",
              "    </tr>\n",
              "    <tr>\n",
              "      <th>2</th>\n",
              "      <td>BMW</td>\n",
              "      <td>1 Series</td>\n",
              "      <td>2011</td>\n",
              "      <td>premium unleaded (required)</td>\n",
              "      <td>300.0</td>\n",
              "      <td>6.0</td>\n",
              "      <td>MANUAL</td>\n",
              "      <td>rear wheel drive</td>\n",
              "      <td>Compact</td>\n",
              "      <td>Coupe</td>\n",
              "      <td>28</td>\n",
              "      <td>20</td>\n",
              "      <td>3916</td>\n",
              "      <td>36350</td>\n",
              "    </tr>\n",
              "    <tr>\n",
              "      <th>3</th>\n",
              "      <td>BMW</td>\n",
              "      <td>1 Series</td>\n",
              "      <td>2011</td>\n",
              "      <td>premium unleaded (required)</td>\n",
              "      <td>230.0</td>\n",
              "      <td>6.0</td>\n",
              "      <td>MANUAL</td>\n",
              "      <td>rear wheel drive</td>\n",
              "      <td>Compact</td>\n",
              "      <td>Coupe</td>\n",
              "      <td>28</td>\n",
              "      <td>18</td>\n",
              "      <td>3916</td>\n",
              "      <td>29450</td>\n",
              "    </tr>\n",
              "    <tr>\n",
              "      <th>4</th>\n",
              "      <td>BMW</td>\n",
              "      <td>1 Series</td>\n",
              "      <td>2011</td>\n",
              "      <td>premium unleaded (required)</td>\n",
              "      <td>230.0</td>\n",
              "      <td>6.0</td>\n",
              "      <td>MANUAL</td>\n",
              "      <td>rear wheel drive</td>\n",
              "      <td>Compact</td>\n",
              "      <td>Convertible</td>\n",
              "      <td>28</td>\n",
              "      <td>18</td>\n",
              "      <td>3916</td>\n",
              "      <td>34500</td>\n",
              "    </tr>\n",
              "  </tbody>\n",
              "</table>\n",
              "</div>"
            ],
            "text/plain": [
              "  Make       Model  Year  ... mpg-C  Popularity  Price\n",
              "0  BMW  1 Series M  2011  ...    19        3916  46135\n",
              "1  BMW    1 Series  2011  ...    19        3916  40650\n",
              "2  BMW    1 Series  2011  ...    20        3916  36350\n",
              "3  BMW    1 Series  2011  ...    18        3916  29450\n",
              "4  BMW    1 Series  2011  ...    18        3916  34500\n",
              "\n",
              "[5 rows x 14 columns]"
            ]
          },
          "metadata": {
            "tags": []
          },
          "execution_count": 1976
        }
      ]
    },
    {
      "cell_type": "code",
      "metadata": {
        "id": "x-KmbYPH69ef",
        "colab_type": "code",
        "colab": {
          "base_uri": "https://localhost:8080/",
          "height": 272
        },
        "outputId": "8a8fac38-7a58-42a6-ef5a-4c1b9ec43fd5"
      },
      "source": [
        "#this tells whether null values are present in each column or not\n",
        "#True indicates that null values are present in that particular column and False indicates that null values are not present\n",
        "dataset.isnull().any()"
      ],
      "execution_count": 1977,
      "outputs": [
        {
          "output_type": "execute_result",
          "data": {
            "text/plain": [
              "Make                False\n",
              "Model               False\n",
              "Year                False\n",
              "Engine Fuel Type     True\n",
              "HP                   True\n",
              "Cylinders            True\n",
              "Transmission        False\n",
              "Drive Mode          False\n",
              "Vehicle Size        False\n",
              "Vehicle Style       False\n",
              "mpg-H               False\n",
              "mpg-C               False\n",
              "Popularity          False\n",
              "Price               False\n",
              "dtype: bool"
            ]
          },
          "metadata": {
            "tags": []
          },
          "execution_count": 1977
        }
      ]
    },
    {
      "cell_type": "markdown",
      "metadata": {
        "id": "Ol3C40fuNwod",
        "colab_type": "text"
      },
      "source": [
        "so here we find that the data in the columns 'Engine Fuel Type', 'HP', 'Cylinders' has missing values"
      ]
    },
    {
      "cell_type": "code",
      "metadata": {
        "id": "G7DjyTmx69hK",
        "colab_type": "code",
        "colab": {
          "base_uri": "https://localhost:8080/",
          "height": 272
        },
        "outputId": "3e81ba5b-7197-4cd8-bc80-efb38a241752"
      },
      "source": [
        "#this gives how many null values are present in each column\n",
        "dataset.isnull().sum()"
      ],
      "execution_count": 1978,
      "outputs": [
        {
          "output_type": "execute_result",
          "data": {
            "text/plain": [
              "Make                 0\n",
              "Model                0\n",
              "Year                 0\n",
              "Engine Fuel Type     3\n",
              "HP                  69\n",
              "Cylinders           30\n",
              "Transmission         0\n",
              "Drive Mode           0\n",
              "Vehicle Size         0\n",
              "Vehicle Style        0\n",
              "mpg-H                0\n",
              "mpg-C                0\n",
              "Popularity           0\n",
              "Price                0\n",
              "dtype: int64"
            ]
          },
          "metadata": {
            "tags": []
          },
          "execution_count": 1978
        }
      ]
    },
    {
      "cell_type": "markdown",
      "metadata": {
        "id": "ypykVshNHn3H",
        "colab_type": "text"
      },
      "source": [
        "**STEP - 4: REMOVING THE DUPLICATE VALUES AND HANDLING THE MISSING VALUES:-**"
      ]
    },
    {
      "cell_type": "code",
      "metadata": {
        "id": "VxRFcf_X69li",
        "colab_type": "code",
        "colab": {
          "base_uri": "https://localhost:8080/",
          "height": 255
        },
        "outputId": "def58e23-897a-4661-ab27-8585f45de77f"
      },
      "source": [
        "#here the duplicate rows are displayed\n",
        "duplicate_rows=dataset[dataset.duplicated()]\n",
        "print(\"no. of duplicated rows are:\", duplicate_rows)\n"
      ],
      "execution_count": 1979,
      "outputs": [
        {
          "output_type": "stream",
          "text": [
            "no. of duplicated rows are:          Make     Model  Year  ... mpg-C  Popularity  Price\n",
            "14        BMW  1 Series  2013  ...    19        3916  31500\n",
            "18       Audi       100  1992  ...    17        3105   2000\n",
            "20       Audi       100  1992  ...    17        3105   2000\n",
            "24       Audi       100  1993  ...    17        3105   2000\n",
            "25       Audi       100  1993  ...    17        3105   2000\n",
            "...       ...       ...   ...  ...   ...         ...    ...\n",
            "11481  Suzuki      X-90  1998  ...    22         481   2000\n",
            "11603   Volvo      XC60  2017  ...    20         870  46350\n",
            "11604   Volvo      XC60  2017  ...    23         870  40950\n",
            "11708  Suzuki       XL7  2008  ...    15         481  29149\n",
            "11717  Suzuki       XL7  2008  ...    16         481  27499\n",
            "\n",
            "[721 rows x 14 columns]\n"
          ],
          "name": "stdout"
        }
      ]
    },
    {
      "cell_type": "markdown",
      "metadata": {
        "id": "0KWPgyXofidE",
        "colab_type": "text"
      },
      "source": [
        "Here we observe that there are 721 duplicate rows. So hence we need to drop them "
      ]
    },
    {
      "cell_type": "code",
      "metadata": {
        "id": "fvwHlXJS69qF",
        "colab_type": "code",
        "colab": {
          "base_uri": "https://localhost:8080/",
          "height": 204
        },
        "outputId": "0c4f47d9-8b6a-4d8b-d655-f3327bb06891"
      },
      "source": [
        "#the duplicate rows are dropped\n",
        "dataset=dataset.drop_duplicates()\n",
        "dataset.head()"
      ],
      "execution_count": 1980,
      "outputs": [
        {
          "output_type": "execute_result",
          "data": {
            "text/html": [
              "<div>\n",
              "<style scoped>\n",
              "    .dataframe tbody tr th:only-of-type {\n",
              "        vertical-align: middle;\n",
              "    }\n",
              "\n",
              "    .dataframe tbody tr th {\n",
              "        vertical-align: top;\n",
              "    }\n",
              "\n",
              "    .dataframe thead th {\n",
              "        text-align: right;\n",
              "    }\n",
              "</style>\n",
              "<table border=\"1\" class=\"dataframe\">\n",
              "  <thead>\n",
              "    <tr style=\"text-align: right;\">\n",
              "      <th></th>\n",
              "      <th>Make</th>\n",
              "      <th>Model</th>\n",
              "      <th>Year</th>\n",
              "      <th>Engine Fuel Type</th>\n",
              "      <th>HP</th>\n",
              "      <th>Cylinders</th>\n",
              "      <th>Transmission</th>\n",
              "      <th>Drive Mode</th>\n",
              "      <th>Vehicle Size</th>\n",
              "      <th>Vehicle Style</th>\n",
              "      <th>mpg-H</th>\n",
              "      <th>mpg-C</th>\n",
              "      <th>Popularity</th>\n",
              "      <th>Price</th>\n",
              "    </tr>\n",
              "  </thead>\n",
              "  <tbody>\n",
              "    <tr>\n",
              "      <th>0</th>\n",
              "      <td>BMW</td>\n",
              "      <td>1 Series M</td>\n",
              "      <td>2011</td>\n",
              "      <td>premium unleaded (required)</td>\n",
              "      <td>335.0</td>\n",
              "      <td>6.0</td>\n",
              "      <td>MANUAL</td>\n",
              "      <td>rear wheel drive</td>\n",
              "      <td>Compact</td>\n",
              "      <td>Coupe</td>\n",
              "      <td>26</td>\n",
              "      <td>19</td>\n",
              "      <td>3916</td>\n",
              "      <td>46135</td>\n",
              "    </tr>\n",
              "    <tr>\n",
              "      <th>1</th>\n",
              "      <td>BMW</td>\n",
              "      <td>1 Series</td>\n",
              "      <td>2011</td>\n",
              "      <td>premium unleaded (required)</td>\n",
              "      <td>300.0</td>\n",
              "      <td>6.0</td>\n",
              "      <td>MANUAL</td>\n",
              "      <td>rear wheel drive</td>\n",
              "      <td>Compact</td>\n",
              "      <td>Convertible</td>\n",
              "      <td>28</td>\n",
              "      <td>19</td>\n",
              "      <td>3916</td>\n",
              "      <td>40650</td>\n",
              "    </tr>\n",
              "    <tr>\n",
              "      <th>2</th>\n",
              "      <td>BMW</td>\n",
              "      <td>1 Series</td>\n",
              "      <td>2011</td>\n",
              "      <td>premium unleaded (required)</td>\n",
              "      <td>300.0</td>\n",
              "      <td>6.0</td>\n",
              "      <td>MANUAL</td>\n",
              "      <td>rear wheel drive</td>\n",
              "      <td>Compact</td>\n",
              "      <td>Coupe</td>\n",
              "      <td>28</td>\n",
              "      <td>20</td>\n",
              "      <td>3916</td>\n",
              "      <td>36350</td>\n",
              "    </tr>\n",
              "    <tr>\n",
              "      <th>3</th>\n",
              "      <td>BMW</td>\n",
              "      <td>1 Series</td>\n",
              "      <td>2011</td>\n",
              "      <td>premium unleaded (required)</td>\n",
              "      <td>230.0</td>\n",
              "      <td>6.0</td>\n",
              "      <td>MANUAL</td>\n",
              "      <td>rear wheel drive</td>\n",
              "      <td>Compact</td>\n",
              "      <td>Coupe</td>\n",
              "      <td>28</td>\n",
              "      <td>18</td>\n",
              "      <td>3916</td>\n",
              "      <td>29450</td>\n",
              "    </tr>\n",
              "    <tr>\n",
              "      <th>4</th>\n",
              "      <td>BMW</td>\n",
              "      <td>1 Series</td>\n",
              "      <td>2011</td>\n",
              "      <td>premium unleaded (required)</td>\n",
              "      <td>230.0</td>\n",
              "      <td>6.0</td>\n",
              "      <td>MANUAL</td>\n",
              "      <td>rear wheel drive</td>\n",
              "      <td>Compact</td>\n",
              "      <td>Convertible</td>\n",
              "      <td>28</td>\n",
              "      <td>18</td>\n",
              "      <td>3916</td>\n",
              "      <td>34500</td>\n",
              "    </tr>\n",
              "  </tbody>\n",
              "</table>\n",
              "</div>"
            ],
            "text/plain": [
              "  Make       Model  Year  ... mpg-C  Popularity  Price\n",
              "0  BMW  1 Series M  2011  ...    19        3916  46135\n",
              "1  BMW    1 Series  2011  ...    19        3916  40650\n",
              "2  BMW    1 Series  2011  ...    20        3916  36350\n",
              "3  BMW    1 Series  2011  ...    18        3916  29450\n",
              "4  BMW    1 Series  2011  ...    18        3916  34500\n",
              "\n",
              "[5 rows x 14 columns]"
            ]
          },
          "metadata": {
            "tags": []
          },
          "execution_count": 1980
        }
      ]
    },
    {
      "cell_type": "code",
      "metadata": {
        "id": "m6pj1LHD69sw",
        "colab_type": "code",
        "colab": {
          "base_uri": "https://localhost:8080/",
          "height": 34
        },
        "outputId": "9a886132-d927-4f44-8089-bb22ddfd0de3"
      },
      "source": [
        "#this is the shape after dropping the duplicate rows\n",
        "dataset.shape"
      ],
      "execution_count": 1981,
      "outputs": [
        {
          "output_type": "execute_result",
          "data": {
            "text/plain": [
              "(11193, 14)"
            ]
          },
          "metadata": {
            "tags": []
          },
          "execution_count": 1981
        }
      ]
    },
    {
      "cell_type": "markdown",
      "metadata": {
        "id": "V_hek0C0f87p",
        "colab_type": "text"
      },
      "source": [
        "Now we can try to fill in the missing values"
      ]
    },
    {
      "cell_type": "code",
      "metadata": {
        "id": "n6uorLH969ve",
        "colab_type": "code",
        "colab": {
          "base_uri": "https://localhost:8080/",
          "height": 272
        },
        "outputId": "4e0feac6-cb87-4aeb-a845-7a980b057bb0"
      },
      "source": [
        "dataset.isnull().sum()"
      ],
      "execution_count": 1982,
      "outputs": [
        {
          "output_type": "execute_result",
          "data": {
            "text/plain": [
              "Make                 0\n",
              "Model                0\n",
              "Year                 0\n",
              "Engine Fuel Type     3\n",
              "HP                  69\n",
              "Cylinders           30\n",
              "Transmission         0\n",
              "Drive Mode           0\n",
              "Vehicle Size         0\n",
              "Vehicle Style        0\n",
              "mpg-H                0\n",
              "mpg-C                0\n",
              "Popularity           0\n",
              "Price                0\n",
              "dtype: int64"
            ]
          },
          "metadata": {
            "tags": []
          },
          "execution_count": 1982
        }
      ]
    },
    {
      "cell_type": "markdown",
      "metadata": {
        "id": "zQEwioNrgTA4",
        "colab_type": "text"
      },
      "source": [
        "Here we observe that there only 3 missing values under the column 'Enginer Fuel Type'. so hence we can drop those missing values since it does not affect the data much"
      ]
    },
    {
      "cell_type": "code",
      "metadata": {
        "id": "tH142j9T69oB",
        "colab_type": "code",
        "colab": {}
      },
      "source": [
        "#this is used to drop those rows which contain missing values\n",
        "dataset.dropna(subset=['Engine Fuel Type'],inplace=True)"
      ],
      "execution_count": 1983,
      "outputs": []
    },
    {
      "cell_type": "markdown",
      "metadata": {
        "id": "RSuwjBUDgPky",
        "colab_type": "text"
      },
      "source": [
        "Now we have dropped the missing values under 'Engine Fuel Type'"
      ]
    },
    {
      "cell_type": "code",
      "metadata": {
        "id": "feLC5jPt69j1",
        "colab_type": "code",
        "colab": {
          "base_uri": "https://localhost:8080/",
          "height": 272
        },
        "outputId": "b34baa88-1429-40c0-ebf5-c94458cdc1bc"
      },
      "source": [
        "dataset.isnull().sum()"
      ],
      "execution_count": 1984,
      "outputs": [
        {
          "output_type": "execute_result",
          "data": {
            "text/plain": [
              "Make                 0\n",
              "Model                0\n",
              "Year                 0\n",
              "Engine Fuel Type     0\n",
              "HP                  69\n",
              "Cylinders           30\n",
              "Transmission         0\n",
              "Drive Mode           0\n",
              "Vehicle Size         0\n",
              "Vehicle Style        0\n",
              "mpg-H                0\n",
              "mpg-C                0\n",
              "Popularity           0\n",
              "Price                0\n",
              "dtype: int64"
            ]
          },
          "metadata": {
            "tags": []
          },
          "execution_count": 1984
        }
      ]
    },
    {
      "cell_type": "markdown",
      "metadata": {
        "id": "Gh7E1jB9gonD",
        "colab_type": "text"
      },
      "source": [
        "Now after dropping the missing values for 'Engine Fuel Type', We observe that there are 69 and 30 missing values for the columns 'HP' and 'Cylinders' respectively. Since the no. of missing values are somewhat big compared to the no. of missing values in 'Engine Fuel Type' we can try to fill in these missing values."
      ]
    },
    {
      "cell_type": "code",
      "metadata": {
        "id": "bJ7MVAZU69cf",
        "colab_type": "code",
        "colab": {
          "base_uri": "https://localhost:8080/",
          "height": 34
        },
        "outputId": "017c67b6-ac1c-46fc-c842-8713872e3f2c"
      },
      "source": [
        "#this gives the unique values of the data present that under that particular column\n",
        "dataset['Cylinders'].unique()"
      ],
      "execution_count": 1985,
      "outputs": [
        {
          "output_type": "execute_result",
          "data": {
            "text/plain": [
              "array([ 6.,  4.,  5.,  8., 12.,  0., nan, 10.,  3., 16.])"
            ]
          },
          "metadata": {
            "tags": []
          },
          "execution_count": 1985
        }
      ]
    },
    {
      "cell_type": "code",
      "metadata": {
        "id": "LG_XwSJV69V2",
        "colab_type": "code",
        "colab": {
          "base_uri": "https://localhost:8080/",
          "height": 34
        },
        "outputId": "7df2727e-65e2-465d-875e-7167777f8283"
      },
      "source": [
        "#this displays the list of columns containing null values\n",
        "null_columns=dataset.columns[dataset.isnull().any()]\n",
        "print(null_columns)"
      ],
      "execution_count": 1986,
      "outputs": [
        {
          "output_type": "stream",
          "text": [
            "Index(['HP', 'Cylinders'], dtype='object')\n"
          ],
          "name": "stdout"
        }
      ]
    },
    {
      "cell_type": "code",
      "metadata": {
        "id": "PPzVmOkU69Kl",
        "colab_type": "code",
        "colab": {
          "base_uri": "https://localhost:8080/",
          "height": 34
        },
        "outputId": "d7277905-3014-4593-acb2-745a98319a84"
      },
      "source": [
        "#this is used to calculate the median value among the data in the 'Cylinders' column\n",
        "median1=dataset.Cylinders.median()\n",
        "print(median1)\n"
      ],
      "execution_count": 1987,
      "outputs": [
        {
          "output_type": "stream",
          "text": [
            "6.0\n"
          ],
          "name": "stdout"
        }
      ]
    },
    {
      "cell_type": "markdown",
      "metadata": {
        "id": "A7GoT1Hrh5qu",
        "colab_type": "text"
      },
      "source": [
        "Here we find that the median is 6.0 for the column 'Cylinders'. Hence we can fill the missing values for the column with the median value"
      ]
    },
    {
      "cell_type": "code",
      "metadata": {
        "id": "z7Yb1IU569Fz",
        "colab_type": "code",
        "colab": {}
      },
      "source": [
        "#this is used to fill the null values in the specified column with the specified value\n",
        "values = {'Cylinders': 6.0}\n",
        "dataset.fillna(value=values,inplace=True)"
      ],
      "execution_count": 1988,
      "outputs": []
    },
    {
      "cell_type": "markdown",
      "metadata": {
        "id": "aej5AqPTiGcS",
        "colab_type": "text"
      },
      "source": [
        "Here we have filled the missing values for the column 'Cylinders' with the median value"
      ]
    },
    {
      "cell_type": "code",
      "metadata": {
        "id": "NvLQ8xJZ6jvB",
        "colab_type": "code",
        "colab": {
          "base_uri": "https://localhost:8080/",
          "height": 272
        },
        "outputId": "db8aacad-dae5-47fd-e161-83ef67c0a768"
      },
      "source": [
        "dataset.isnull().sum()"
      ],
      "execution_count": 1989,
      "outputs": [
        {
          "output_type": "execute_result",
          "data": {
            "text/plain": [
              "Make                 0\n",
              "Model                0\n",
              "Year                 0\n",
              "Engine Fuel Type     0\n",
              "HP                  69\n",
              "Cylinders            0\n",
              "Transmission         0\n",
              "Drive Mode           0\n",
              "Vehicle Size         0\n",
              "Vehicle Style        0\n",
              "mpg-H                0\n",
              "mpg-C                0\n",
              "Popularity           0\n",
              "Price                0\n",
              "dtype: int64"
            ]
          },
          "metadata": {
            "tags": []
          },
          "execution_count": 1989
        }
      ]
    },
    {
      "cell_type": "markdown",
      "metadata": {
        "id": "psYILTH_iP18",
        "colab_type": "text"
      },
      "source": [
        "After filling the null values for the 'Cylinders' column, we observe that only the column 'HP' is remaining to be filled. 'HP' contains 69 missing values"
      ]
    },
    {
      "cell_type": "code",
      "metadata": {
        "id": "kK-N86nX6jz4",
        "colab_type": "code",
        "colab": {
          "base_uri": "https://localhost:8080/",
          "height": 34
        },
        "outputId": "b5a48bb8-bcda-4e18-f485-80f8d5b3d8cf"
      },
      "source": [
        "#this is used to calculate the mean value for the data in the column 'HP'\n",
        "mean1=dataset.HP.mean()\n",
        "print(mean1)"
      ],
      "execution_count": 1990,
      "outputs": [
        {
          "output_type": "stream",
          "text": [
            "253.42370290441508\n"
          ],
          "name": "stdout"
        }
      ]
    },
    {
      "cell_type": "markdown",
      "metadata": {
        "id": "zRUD9drPivYF",
        "colab_type": "text"
      },
      "source": [
        "Here we find that the mean value for the data in the column 'HP' is 253.4237."
      ]
    },
    {
      "cell_type": "code",
      "metadata": {
        "id": "Pp16UzSU6j9Q",
        "colab_type": "code",
        "colab": {}
      },
      "source": [
        "values1 = {'HP': 253}\n",
        "dataset.fillna(value=values1,inplace=True)"
      ],
      "execution_count": 1991,
      "outputs": []
    },
    {
      "cell_type": "markdown",
      "metadata": {
        "id": "tKLzT65E2s4R",
        "colab_type": "text"
      },
      "source": [
        "Hence we fill all the missing values for the column 'HP' with the mean value."
      ]
    },
    {
      "cell_type": "code",
      "metadata": {
        "id": "FdQodyz86kEe",
        "colab_type": "code",
        "colab": {
          "base_uri": "https://localhost:8080/",
          "height": 272
        },
        "outputId": "bb42e633-01ae-46bc-fdcc-b78f6513410a"
      },
      "source": [
        "dataset.isnull().sum()"
      ],
      "execution_count": 1992,
      "outputs": [
        {
          "output_type": "execute_result",
          "data": {
            "text/plain": [
              "Make                0\n",
              "Model               0\n",
              "Year                0\n",
              "Engine Fuel Type    0\n",
              "HP                  0\n",
              "Cylinders           0\n",
              "Transmission        0\n",
              "Drive Mode          0\n",
              "Vehicle Size        0\n",
              "Vehicle Style       0\n",
              "mpg-H               0\n",
              "mpg-C               0\n",
              "Popularity          0\n",
              "Price               0\n",
              "dtype: int64"
            ]
          },
          "metadata": {
            "tags": []
          },
          "execution_count": 1992
        }
      ]
    },
    {
      "cell_type": "markdown",
      "metadata": {
        "id": "MyAXQ-kb24Kv",
        "colab_type": "text"
      },
      "source": [
        "Now hence we observe that all the missing values in the dataset are filled"
      ]
    },
    {
      "cell_type": "code",
      "metadata": {
        "id": "CR9SH7Wb6kJl",
        "colab_type": "code",
        "colab": {
          "base_uri": "https://localhost:8080/",
          "height": 297
        },
        "outputId": "453cc139-2b28-4eb8-bd19-e72d9bcb1d00"
      },
      "source": [
        "#this is the description about each column after filling the missing values\n",
        "dataset.describe()"
      ],
      "execution_count": 1993,
      "outputs": [
        {
          "output_type": "execute_result",
          "data": {
            "text/html": [
              "<div>\n",
              "<style scoped>\n",
              "    .dataframe tbody tr th:only-of-type {\n",
              "        vertical-align: middle;\n",
              "    }\n",
              "\n",
              "    .dataframe tbody tr th {\n",
              "        vertical-align: top;\n",
              "    }\n",
              "\n",
              "    .dataframe thead th {\n",
              "        text-align: right;\n",
              "    }\n",
              "</style>\n",
              "<table border=\"1\" class=\"dataframe\">\n",
              "  <thead>\n",
              "    <tr style=\"text-align: right;\">\n",
              "      <th></th>\n",
              "      <th>Year</th>\n",
              "      <th>HP</th>\n",
              "      <th>Cylinders</th>\n",
              "      <th>mpg-H</th>\n",
              "      <th>mpg-C</th>\n",
              "      <th>Popularity</th>\n",
              "      <th>Price</th>\n",
              "    </tr>\n",
              "  </thead>\n",
              "  <tbody>\n",
              "    <tr>\n",
              "      <th>count</th>\n",
              "      <td>11190.000000</td>\n",
              "      <td>11190.000000</td>\n",
              "      <td>11190.000000</td>\n",
              "      <td>11190.000000</td>\n",
              "      <td>11190.000000</td>\n",
              "      <td>11190.000000</td>\n",
              "      <td>1.119000e+04</td>\n",
              "    </tr>\n",
              "    <tr>\n",
              "      <th>mean</th>\n",
              "      <td>2010.717962</td>\n",
              "      <td>253.421090</td>\n",
              "      <td>5.666577</td>\n",
              "      <td>26.610992</td>\n",
              "      <td>19.733155</td>\n",
              "      <td>1558.373637</td>\n",
              "      <td>4.194310e+04</td>\n",
              "    </tr>\n",
              "    <tr>\n",
              "      <th>std</th>\n",
              "      <td>7.226330</td>\n",
              "      <td>109.836149</td>\n",
              "      <td>1.795193</td>\n",
              "      <td>8.980708</td>\n",
              "      <td>9.180922</td>\n",
              "      <td>1445.543831</td>\n",
              "      <td>6.155596e+04</td>\n",
              "    </tr>\n",
              "    <tr>\n",
              "      <th>min</th>\n",
              "      <td>1990.000000</td>\n",
              "      <td>55.000000</td>\n",
              "      <td>0.000000</td>\n",
              "      <td>12.000000</td>\n",
              "      <td>7.000000</td>\n",
              "      <td>2.000000</td>\n",
              "      <td>2.000000e+03</td>\n",
              "    </tr>\n",
              "    <tr>\n",
              "      <th>25%</th>\n",
              "      <td>2007.000000</td>\n",
              "      <td>172.000000</td>\n",
              "      <td>4.000000</td>\n",
              "      <td>22.000000</td>\n",
              "      <td>16.000000</td>\n",
              "      <td>549.000000</td>\n",
              "      <td>2.160000e+04</td>\n",
              "    </tr>\n",
              "    <tr>\n",
              "      <th>50%</th>\n",
              "      <td>2015.000000</td>\n",
              "      <td>240.000000</td>\n",
              "      <td>6.000000</td>\n",
              "      <td>25.000000</td>\n",
              "      <td>18.000000</td>\n",
              "      <td>1385.000000</td>\n",
              "      <td>3.068500e+04</td>\n",
              "    </tr>\n",
              "    <tr>\n",
              "      <th>75%</th>\n",
              "      <td>2016.000000</td>\n",
              "      <td>303.000000</td>\n",
              "      <td>6.000000</td>\n",
              "      <td>30.000000</td>\n",
              "      <td>22.000000</td>\n",
              "      <td>2009.000000</td>\n",
              "      <td>4.304750e+04</td>\n",
              "    </tr>\n",
              "    <tr>\n",
              "      <th>max</th>\n",
              "      <td>2017.000000</td>\n",
              "      <td>1001.000000</td>\n",
              "      <td>16.000000</td>\n",
              "      <td>354.000000</td>\n",
              "      <td>137.000000</td>\n",
              "      <td>5657.000000</td>\n",
              "      <td>2.065902e+06</td>\n",
              "    </tr>\n",
              "  </tbody>\n",
              "</table>\n",
              "</div>"
            ],
            "text/plain": [
              "               Year            HP  ...    Popularity         Price\n",
              "count  11190.000000  11190.000000  ...  11190.000000  1.119000e+04\n",
              "mean    2010.717962    253.421090  ...   1558.373637  4.194310e+04\n",
              "std        7.226330    109.836149  ...   1445.543831  6.155596e+04\n",
              "min     1990.000000     55.000000  ...      2.000000  2.000000e+03\n",
              "25%     2007.000000    172.000000  ...    549.000000  2.160000e+04\n",
              "50%     2015.000000    240.000000  ...   1385.000000  3.068500e+04\n",
              "75%     2016.000000    303.000000  ...   2009.000000  4.304750e+04\n",
              "max     2017.000000   1001.000000  ...   5657.000000  2.065902e+06\n",
              "\n",
              "[8 rows x 7 columns]"
            ]
          },
          "metadata": {
            "tags": []
          },
          "execution_count": 1993
        }
      ]
    },
    {
      "cell_type": "markdown",
      "metadata": {
        "id": "Yi4BlsUDP-I7",
        "colab_type": "text"
      },
      "source": [
        "**STEP - 5: CHECKING FOR OUTLIERS AND REMOVING THEM:-**"
      ]
    },
    {
      "cell_type": "markdown",
      "metadata": {
        "id": "Gwpx-juw3NCY",
        "colab_type": "text"
      },
      "source": [
        "After filling the missing values, we need to check for all the outliers in the dataset. We need to remove these outliers since it will affect the machine learning model later. One way to check for outliers is to use a box and whiskers plot. The points beyond the two whiskers on either sides are said to be outliers. Hence we plot the boxplots for all the columns to check for the outliers"
      ]
    },
    {
      "cell_type": "code",
      "metadata": {
        "id": "3m5kaU--8_f1",
        "colab_type": "code",
        "colab": {
          "base_uri": "https://localhost:8080/",
          "height": 296
        },
        "outputId": "221b7b13-41c9-476f-bfd9-119cb06ec1a2"
      },
      "source": [
        "#this is the boxplot for the column 'Cylinders'\n",
        "sns.boxplot(dataset['Cylinders'])"
      ],
      "execution_count": 1994,
      "outputs": [
        {
          "output_type": "execute_result",
          "data": {
            "text/plain": [
              "<matplotlib.axes._subplots.AxesSubplot at 0x7f2b9ff3c5f8>"
            ]
          },
          "metadata": {
            "tags": []
          },
          "execution_count": 1994
        },
        {
          "output_type": "display_data",
          "data": {
            "image/png": "[encoded data removed]",
            "text/plain": [
              "<Figure size 432x288 with 1 Axes>"
            ]
          },
          "metadata": {
            "tags": [],
            "needs_background": "light"
          }
        }
      ]
    },
    {
      "cell_type": "code",
      "metadata": {
        "id": "c72GLwdR6k1K",
        "colab_type": "code",
        "colab": {
          "base_uri": "https://localhost:8080/",
          "height": 296
        },
        "outputId": "38b14720-d71f-48a7-ad2d-5c4a71b39650"
      },
      "source": [
        "sns.boxplot(dataset['HP'])"
      ],
      "execution_count": 1995,
      "outputs": [
        {
          "output_type": "execute_result",
          "data": {
            "text/plain": [
              "<matplotlib.axes._subplots.AxesSubplot at 0x7f2ba00b1fd0>"
            ]
          },
          "metadata": {
            "tags": []
          },
          "execution_count": 1995
        },
        {
          "output_type": "display_data",
          "data": {
            "image/png": "[encoded data removed]",
            "text/plain": [
              "<Figure size 432x288 with 1 Axes>"
            ]
          },
          "metadata": {
            "tags": [],
            "needs_background": "light"
          }
        }
      ]
    },
    {
      "cell_type": "code",
      "metadata": {
        "id": "b0ywKojI6ky2",
        "colab_type": "code",
        "colab": {
          "base_uri": "https://localhost:8080/",
          "height": 296
        },
        "outputId": "4ecedc72-16cc-455c-a295-0b8472e14396"
      },
      "source": [
        "sns.boxplot(dataset['mpg-H'])"
      ],
      "execution_count": 1996,
      "outputs": [
        {
          "output_type": "execute_result",
          "data": {
            "text/plain": [
              "<matplotlib.axes._subplots.AxesSubplot at 0x7f2b9fe78940>"
            ]
          },
          "metadata": {
            "tags": []
          },
          "execution_count": 1996
        },
        {
          "output_type": "display_data",
          "data": {
            "image/png": "[encoded data removed]",
            "text/plain": [
              "<Figure size 432x288 with 1 Axes>"
            ]
          },
          "metadata": {
            "tags": [],
            "needs_background": "light"
          }
        }
      ]
    },
    {
      "cell_type": "code",
      "metadata": {
        "id": "LIYHPi8a6kw_",
        "colab_type": "code",
        "colab": {
          "base_uri": "https://localhost:8080/",
          "height": 296
        },
        "outputId": "f457f5c2-c472-4276-e268-3bb6a4bf35dc"
      },
      "source": [
        "sns.boxplot(dataset['mpg-C'])"
      ],
      "execution_count": 1997,
      "outputs": [
        {
          "output_type": "execute_result",
          "data": {
            "text/plain": [
              "<matplotlib.axes._subplots.AxesSubplot at 0x7f2b9feb67b8>"
            ]
          },
          "metadata": {
            "tags": []
          },
          "execution_count": 1997
        },
        {
          "output_type": "display_data",
          "data": {
            "image/png": "[encoded data removed]",
            "text/plain": [
              "<Figure size 432x288 with 1 Axes>"
            ]
          },
          "metadata": {
            "tags": [],
            "needs_background": "light"
          }
        }
      ]
    },
    {
      "cell_type": "code",
      "metadata": {
        "id": "hL_IQy4i6kvK",
        "colab_type": "code",
        "colab": {
          "base_uri": "https://localhost:8080/",
          "height": 296
        },
        "outputId": "7093549f-e0f2-4a01-ebe0-c2bce1a3446a"
      },
      "source": [
        "sns.boxplot(dataset['Popularity'])"
      ],
      "execution_count": 1998,
      "outputs": [
        {
          "output_type": "execute_result",
          "data": {
            "text/plain": [
              "<matplotlib.axes._subplots.AxesSubplot at 0x7f2b9fdbec88>"
            ]
          },
          "metadata": {
            "tags": []
          },
          "execution_count": 1998
        },
        {
          "output_type": "display_data",
          "data": {
            "image/png": "[encoded data removed]",
            "text/plain": [
              "<Figure size 432x288 with 1 Axes>"
            ]
          },
          "metadata": {
            "tags": [],
            "needs_background": "light"
          }
        }
      ]
    },
    {
      "cell_type": "code",
      "metadata": {
        "id": "PSbRz8yw6kpn",
        "colab_type": "code",
        "colab": {
          "base_uri": "https://localhost:8080/",
          "height": 296
        },
        "outputId": "1958f3a1-4abc-4b03-d464-54191bcb4c01"
      },
      "source": [
        "sns.boxplot(dataset['Price'])"
      ],
      "execution_count": 1999,
      "outputs": [
        {
          "output_type": "execute_result",
          "data": {
            "text/plain": [
              "<matplotlib.axes._subplots.AxesSubplot at 0x7f2b9fd9add8>"
            ]
          },
          "metadata": {
            "tags": []
          },
          "execution_count": 1999
        },
        {
          "output_type": "display_data",
          "data": {
            "image/png": "[encoded data removed]",
            "text/plain": [
              "<Figure size 432x288 with 1 Axes>"
            ]
          },
          "metadata": {
            "tags": [],
            "needs_background": "light"
          }
        }
      ]
    },
    {
      "cell_type": "markdown",
      "metadata": {
        "id": "iA3YLGT-35Pu",
        "colab_type": "text"
      },
      "source": [
        "So here we observe by looking at all the boxplots that there are many outliers in the dataset i.e there are points beyond the whiskers of the boxplot. So hence we need to remove them"
      ]
    },
    {
      "cell_type": "code",
      "metadata": {
        "id": "XltST97rnZL-",
        "colab_type": "code",
        "colab": {
          "base_uri": "https://localhost:8080/",
          "height": 297
        },
        "outputId": "f736ed8d-d6a3-4d4e-fe9e-dde3d2bfed90"
      },
      "source": [
        "dataset.describe()"
      ],
      "execution_count": 2000,
      "outputs": [
        {
          "output_type": "execute_result",
          "data": {
            "text/html": [
              "<div>\n",
              "<style scoped>\n",
              "    .dataframe tbody tr th:only-of-type {\n",
              "        vertical-align: middle;\n",
              "    }\n",
              "\n",
              "    .dataframe tbody tr th {\n",
              "        vertical-align: top;\n",
              "    }\n",
              "\n",
              "    .dataframe thead th {\n",
              "        text-align: right;\n",
              "    }\n",
              "</style>\n",
              "<table border=\"1\" class=\"dataframe\">\n",
              "  <thead>\n",
              "    <tr style=\"text-align: right;\">\n",
              "      <th></th>\n",
              "      <th>Year</th>\n",
              "      <th>HP</th>\n",
              "      <th>Cylinders</th>\n",
              "      <th>mpg-H</th>\n",
              "      <th>mpg-C</th>\n",
              "      <th>Popularity</th>\n",
              "      <th>Price</th>\n",
              "    </tr>\n",
              "  </thead>\n",
              "  <tbody>\n",
              "    <tr>\n",
              "      <th>count</th>\n",
              "      <td>11190.000000</td>\n",
              "      <td>11190.000000</td>\n",
              "      <td>11190.000000</td>\n",
              "      <td>11190.000000</td>\n",
              "      <td>11190.000000</td>\n",
              "      <td>11190.000000</td>\n",
              "      <td>1.119000e+04</td>\n",
              "    </tr>\n",
              "    <tr>\n",
              "      <th>mean</th>\n",
              "      <td>2010.717962</td>\n",
              "      <td>253.421090</td>\n",
              "      <td>5.666577</td>\n",
              "      <td>26.610992</td>\n",
              "      <td>19.733155</td>\n",
              "      <td>1558.373637</td>\n",
              "      <td>4.194310e+04</td>\n",
              "    </tr>\n",
              "    <tr>\n",
              "      <th>std</th>\n",
              "      <td>7.226330</td>\n",
              "      <td>109.836149</td>\n",
              "      <td>1.795193</td>\n",
              "      <td>8.980708</td>\n",
              "      <td>9.180922</td>\n",
              "      <td>1445.543831</td>\n",
              "      <td>6.155596e+04</td>\n",
              "    </tr>\n",
              "    <tr>\n",
              "      <th>min</th>\n",
              "      <td>1990.000000</td>\n",
              "      <td>55.000000</td>\n",
              "      <td>0.000000</td>\n",
              "      <td>12.000000</td>\n",
              "      <td>7.000000</td>\n",
              "      <td>2.000000</td>\n",
              "      <td>2.000000e+03</td>\n",
              "    </tr>\n",
              "    <tr>\n",
              "      <th>25%</th>\n",
              "      <td>2007.000000</td>\n",
              "      <td>172.000000</td>\n",
              "      <td>4.000000</td>\n",
              "      <td>22.000000</td>\n",
              "      <td>16.000000</td>\n",
              "      <td>549.000000</td>\n",
              "      <td>2.160000e+04</td>\n",
              "    </tr>\n",
              "    <tr>\n",
              "      <th>50%</th>\n",
              "      <td>2015.000000</td>\n",
              "      <td>240.000000</td>\n",
              "      <td>6.000000</td>\n",
              "      <td>25.000000</td>\n",
              "      <td>18.000000</td>\n",
              "      <td>1385.000000</td>\n",
              "      <td>3.068500e+04</td>\n",
              "    </tr>\n",
              "    <tr>\n",
              "      <th>75%</th>\n",
              "      <td>2016.000000</td>\n",
              "      <td>303.000000</td>\n",
              "      <td>6.000000</td>\n",
              "      <td>30.000000</td>\n",
              "      <td>22.000000</td>\n",
              "      <td>2009.000000</td>\n",
              "      <td>4.304750e+04</td>\n",
              "    </tr>\n",
              "    <tr>\n",
              "      <th>max</th>\n",
              "      <td>2017.000000</td>\n",
              "      <td>1001.000000</td>\n",
              "      <td>16.000000</td>\n",
              "      <td>354.000000</td>\n",
              "      <td>137.000000</td>\n",
              "      <td>5657.000000</td>\n",
              "      <td>2.065902e+06</td>\n",
              "    </tr>\n",
              "  </tbody>\n",
              "</table>\n",
              "</div>"
            ],
            "text/plain": [
              "               Year            HP  ...    Popularity         Price\n",
              "count  11190.000000  11190.000000  ...  11190.000000  1.119000e+04\n",
              "mean    2010.717962    253.421090  ...   1558.373637  4.194310e+04\n",
              "std        7.226330    109.836149  ...   1445.543831  6.155596e+04\n",
              "min     1990.000000     55.000000  ...      2.000000  2.000000e+03\n",
              "25%     2007.000000    172.000000  ...    549.000000  2.160000e+04\n",
              "50%     2015.000000    240.000000  ...   1385.000000  3.068500e+04\n",
              "75%     2016.000000    303.000000  ...   2009.000000  4.304750e+04\n",
              "max     2017.000000   1001.000000  ...   5657.000000  2.065902e+06\n",
              "\n",
              "[8 rows x 7 columns]"
            ]
          },
          "metadata": {
            "tags": []
          },
          "execution_count": 2000
        }
      ]
    },
    {
      "cell_type": "markdown",
      "metadata": {
        "id": "VoPzD-qI4O8b",
        "colab_type": "text"
      },
      "source": [
        "One way to remove the outliers is by using inter quantile range (IQR). So we can try doing this"
      ]
    },
    {
      "cell_type": "code",
      "metadata": {
        "id": "PCPggp1Q6kn4",
        "colab_type": "code",
        "colab": {
          "base_uri": "https://localhost:8080/",
          "height": 272
        },
        "outputId": "b9415b66-827d-4042-b3b0-92effa3287d4"
      },
      "source": [
        "#here we set Q3 and Q1 values to the 75th percentile and 25th percentile values\n",
        "Q3 = dataset.quantile(0.75)\n",
        "Q1 = dataset.quantile(0.25)\n",
        "Q1,Q3"
      ],
      "execution_count": 2001,
      "outputs": [
        {
          "output_type": "execute_result",
          "data": {
            "text/plain": [
              "(Year           2007.0\n",
              " HP              172.0\n",
              " Cylinders         4.0\n",
              " mpg-H            22.0\n",
              " mpg-C            16.0\n",
              " Popularity      549.0\n",
              " Price         21600.0\n",
              " Name: 0.25, dtype: float64, Year           2016.0\n",
              " HP              303.0\n",
              " Cylinders         6.0\n",
              " mpg-H            30.0\n",
              " mpg-C            22.0\n",
              " Popularity     2009.0\n",
              " Price         43047.5\n",
              " Name: 0.75, dtype: float64)"
            ]
          },
          "metadata": {
            "tags": []
          },
          "execution_count": 2001
        }
      ]
    },
    {
      "cell_type": "code",
      "metadata": {
        "id": "c5sbGg6O6kiI",
        "colab_type": "code",
        "colab": {
          "base_uri": "https://localhost:8080/",
          "height": 153
        },
        "outputId": "b41f4cb2-b548-4739-c84d-ce8a5610bead"
      },
      "source": [
        "#IQR is the difference between the third quantile and the first quantile\n",
        "IQR = Q3 - Q1\n",
        "print(IQR)"
      ],
      "execution_count": 2002,
      "outputs": [
        {
          "output_type": "stream",
          "text": [
            "Year              9.0\n",
            "HP              131.0\n",
            "Cylinders         2.0\n",
            "mpg-H             8.0\n",
            "mpg-C             6.0\n",
            "Popularity     1460.0\n",
            "Price         21447.5\n",
            "dtype: float64\n"
          ],
          "name": "stdout"
        }
      ]
    },
    {
      "cell_type": "code",
      "metadata": {
        "id": "r23ShPnO6kf8",
        "colab_type": "code",
        "colab": {
          "base_uri": "https://localhost:8080/",
          "height": 34
        },
        "outputId": "0951b9f8-1207-4fab-ef1d-694c23b1339a"
      },
      "source": [
        "#here the outliers are removed i.e only those points are considered which are the range\n",
        "lower_limit = Q1 - 1.5 * IQR\n",
        "upper_limit = Q3 + 1.5 * IQR\n",
        "dataset = dataset[~((dataset < (lower_limit)) | (dataset > (upper_limit))).any(axis=1)]\n",
        "dataset.shape"
      ],
      "execution_count": 2003,
      "outputs": [
        {
          "output_type": "execute_result",
          "data": {
            "text/plain": [
              "(8638, 14)"
            ]
          },
          "metadata": {
            "tags": []
          },
          "execution_count": 2003
        }
      ]
    },
    {
      "cell_type": "markdown",
      "metadata": {
        "id": "hf2AtYiN5HIv",
        "colab_type": "text"
      },
      "source": [
        "Hence now the outliers are removed from all the columns and we observe the new shape after the outliers are removed"
      ]
    },
    {
      "cell_type": "markdown",
      "metadata": {
        "id": "_lgc3a7LIJJq",
        "colab_type": "text"
      },
      "source": [
        "**STEP - 6: FINDING THE MOST REPRESENTED CAR BRANDS AND FINDING THE AVERAGE PRICE OF THOSE CAR BRANDS:-**"
      ]
    },
    {
      "cell_type": "markdown",
      "metadata": {
        "id": "_lyNu_0x5RE4",
        "colab_type": "text"
      },
      "source": [
        "Next we need to find out the top 10 most represented car brands"
      ]
    },
    {
      "cell_type": "code",
      "metadata": {
        "id": "1I4Afk-J6kay",
        "colab_type": "code",
        "colab": {
          "base_uri": "https://localhost:8080/",
          "height": 663
        },
        "outputId": "456a6f31-b891-4dc5-fa69-3f21a609e1b5"
      },
      "source": [
        "#this gives the percentage of each car brand\n",
        "percent = dataset['Make'].value_counts()*100/sum(dataset['Make'].value_counts())\n",
        "print(percent)\n"
      ],
      "execution_count": 2004,
      "outputs": [
        {
          "output_type": "stream",
          "text": [
            "Chevrolet        11.970364\n",
            "Toyota            7.281778\n",
            "Volkswagen        5.962028\n",
            "Nissan            5.938875\n",
            "GMC               5.429498\n",
            "Dodge             4.920120\n",
            "Mazda             4.595971\n",
            "Honda             4.318129\n",
            "Suzuki            3.889789\n",
            "Infiniti          3.727715\n",
            "Cadillac          3.473026\n",
            "Hyundai           2.801574\n",
            "Audi              2.778421\n",
            "Volvo             2.732114\n",
            "Acura             2.685807\n",
            "Subaru            2.546886\n",
            "BMW               2.523732\n",
            "Kia               2.500579\n",
            "Buick             2.130123\n",
            "Mitsubishi        2.072239\n",
            "Chrysler          2.002778\n",
            "Mercedes-Benz     1.979625\n",
            "Lexus             1.887011\n",
            "Pontiac           1.805974\n",
            "Lincoln           1.690206\n",
            "Saab              1.261866\n",
            "Oldsmobile        1.215559\n",
            "Land Rover        1.053485\n",
            "FIAT              0.683028\n",
            "Scion             0.636721\n",
            "Plymouth          0.497800\n",
            "Porsche           0.439917\n",
            "Lotus             0.231535\n",
            "HUMMER            0.196805\n",
            "Alfa Romeo        0.057884\n",
            "Maserati          0.046307\n",
            "Genesis           0.034730\n",
            "Name: Make, dtype: float64\n"
          ],
          "name": "stdout"
        }
      ]
    },
    {
      "cell_type": "code",
      "metadata": {
        "id": "g2hqDMW06kZB",
        "colab_type": "code",
        "colab": {
          "base_uri": "https://localhost:8080/",
          "height": 68
        },
        "outputId": "201e3982-8b1a-4ead-fac7-5f0f6c91aaa1"
      },
      "source": [
        "#this is the top 10 car brands\n",
        "top10 = percent.index[:10]\n",
        "print(top10)"
      ],
      "execution_count": 2005,
      "outputs": [
        {
          "output_type": "stream",
          "text": [
            "Index(['Chevrolet', 'Toyota', 'Volkswagen', 'Nissan', 'GMC', 'Dodge', 'Mazda',\n",
            "       'Honda', 'Suzuki', 'Infiniti'],\n",
            "      dtype='object')\n"
          ],
          "name": "stdout"
        }
      ]
    },
    {
      "cell_type": "code",
      "metadata": {
        "id": "qgkDn5xh6kT7",
        "colab_type": "code",
        "colab": {
          "base_uri": "https://localhost:8080/",
          "height": 281
        },
        "outputId": "7fc43537-26c3-4896-b6c3-21a071105261"
      },
      "source": [
        "#this gives the horizontal bar chart for the top 10 car brands\n",
        "plt.barh(top10, width = percent[:10])\n",
        "plt.title(\"Top 10 Car brands\")\n",
        "plt.show()"
      ],
      "execution_count": 2006,
      "outputs": [
        {
          "output_type": "display_data",
          "data": {
            "image/png": "[encoded data removed]",
            "text/plain": [
              "<Figure size 432x288 with 1 Axes>"
            ]
          },
          "metadata": {
            "tags": [],
            "needs_background": "light"
          }
        }
      ]
    },
    {
      "cell_type": "markdown",
      "metadata": {
        "id": "wi2IJpS25uAJ",
        "colab_type": "text"
      },
      "source": [
        "So here we observe from the bar chart that Chevrolet is the best car brand which is sold then comes Toyota then Volkswagen, Nissan.... etc"
      ]
    },
    {
      "cell_type": "code",
      "metadata": {
        "id": "h3jKkq5q6kSI",
        "colab_type": "code",
        "colab": {
          "base_uri": "https://localhost:8080/",
          "height": 221
        },
        "outputId": "de25b73b-970b-4bf6-8234-5614fcfc4cc8"
      },
      "source": [
        "#here the average prices for each of the top 10 brands are displayed\n",
        "averageprices = dataset[['Make','Price']].loc[(dataset['Make'] == 'Chevrolet')|\n",
        "                                       (dataset['Make'] == 'Toyota')|\n",
        "                                       (dataset['Make'] == 'Volkswagen')|\n",
        "                                       (dataset['Make'] == 'Nissan')|\n",
        "                                       (dataset['Make'] == 'GMC')|\n",
        "                                       (dataset['Make'] == 'Dodge')|\n",
        "                                       (dataset['Make'] == 'Mazda')|\n",
        "                                       (dataset['Make'] == 'Honda')|\n",
        "                                       (dataset['Make'] == 'Suzuki')|\n",
        "                                       (dataset['Make'] == 'Infiniti')].groupby('Make').mean()\n",
        "print(averageprices)\n"
      ],
      "execution_count": 2007,
      "outputs": [
        {
          "output_type": "stream",
          "text": [
            "                   Price\n",
            "Make                    \n",
            "Chevrolet   28252.488395\n",
            "Dodge       26076.722353\n",
            "GMC         33261.400853\n",
            "Honda       27381.364611\n",
            "Infiniti    43127.822981\n",
            "Mazda       20830.670025\n",
            "Nissan      28352.543860\n",
            "Suzuki      18164.098214\n",
            "Toyota      29011.750397\n",
            "Volkswagen  29032.817476\n"
          ],
          "name": "stdout"
        }
      ]
    },
    {
      "cell_type": "markdown",
      "metadata": {
        "id": "dxjRtcp-6Mik",
        "colab_type": "text"
      },
      "source": [
        "So hence we observe the average prices for each brand is given"
      ]
    },
    {
      "cell_type": "markdown",
      "metadata": {
        "id": "dozy1lu7IiKg",
        "colab_type": "text"
      },
      "source": [
        "**STEP - 7: PLOTTING THE CORRELATION MATRIX:-**"
      ]
    },
    {
      "cell_type": "code",
      "metadata": {
        "id": "YlX6CggY6kM9",
        "colab_type": "code",
        "colab": {
          "base_uri": "https://localhost:8080/",
          "height": 266
        },
        "outputId": "ba008fdc-e92a-4541-ec98-fe5bce44398c"
      },
      "source": [
        "#this gives the correlation matrix for dataset\n",
        "dataset.corr()\n"
      ],
      "execution_count": 2008,
      "outputs": [
        {
          "output_type": "execute_result",
          "data": {
            "text/html": [
              "<div>\n",
              "<style scoped>\n",
              "    .dataframe tbody tr th:only-of-type {\n",
              "        vertical-align: middle;\n",
              "    }\n",
              "\n",
              "    .dataframe tbody tr th {\n",
              "        vertical-align: top;\n",
              "    }\n",
              "\n",
              "    .dataframe thead th {\n",
              "        text-align: right;\n",
              "    }\n",
              "</style>\n",
              "<table border=\"1\" class=\"dataframe\">\n",
              "  <thead>\n",
              "    <tr style=\"text-align: right;\">\n",
              "      <th></th>\n",
              "      <th>Year</th>\n",
              "      <th>HP</th>\n",
              "      <th>Cylinders</th>\n",
              "      <th>mpg-H</th>\n",
              "      <th>mpg-C</th>\n",
              "      <th>Popularity</th>\n",
              "      <th>Price</th>\n",
              "    </tr>\n",
              "  </thead>\n",
              "  <tbody>\n",
              "    <tr>\n",
              "      <th>Year</th>\n",
              "      <td>1.000000</td>\n",
              "      <td>0.330224</td>\n",
              "      <td>-0.094361</td>\n",
              "      <td>0.359681</td>\n",
              "      <td>0.323442</td>\n",
              "      <td>0.204245</td>\n",
              "      <td>0.592206</td>\n",
              "    </tr>\n",
              "    <tr>\n",
              "      <th>HP</th>\n",
              "      <td>0.330224</td>\n",
              "      <td>1.000000</td>\n",
              "      <td>0.740672</td>\n",
              "      <td>-0.464847</td>\n",
              "      <td>-0.562745</td>\n",
              "      <td>0.105627</td>\n",
              "      <td>0.742709</td>\n",
              "    </tr>\n",
              "    <tr>\n",
              "      <th>Cylinders</th>\n",
              "      <td>-0.094361</td>\n",
              "      <td>0.740672</td>\n",
              "      <td>1.000000</td>\n",
              "      <td>-0.698031</td>\n",
              "      <td>-0.750993</td>\n",
              "      <td>0.024944</td>\n",
              "      <td>0.391684</td>\n",
              "    </tr>\n",
              "    <tr>\n",
              "      <th>mpg-H</th>\n",
              "      <td>0.359681</td>\n",
              "      <td>-0.464847</td>\n",
              "      <td>-0.698031</td>\n",
              "      <td>1.000000</td>\n",
              "      <td>0.937958</td>\n",
              "      <td>0.081893</td>\n",
              "      <td>-0.127334</td>\n",
              "    </tr>\n",
              "    <tr>\n",
              "      <th>mpg-C</th>\n",
              "      <td>0.323442</td>\n",
              "      <td>-0.562745</td>\n",
              "      <td>-0.750993</td>\n",
              "      <td>0.937958</td>\n",
              "      <td>1.000000</td>\n",
              "      <td>0.071619</td>\n",
              "      <td>-0.201990</td>\n",
              "    </tr>\n",
              "    <tr>\n",
              "      <th>Popularity</th>\n",
              "      <td>0.204245</td>\n",
              "      <td>0.105627</td>\n",
              "      <td>0.024944</td>\n",
              "      <td>0.081893</td>\n",
              "      <td>0.071619</td>\n",
              "      <td>1.000000</td>\n",
              "      <td>0.115601</td>\n",
              "    </tr>\n",
              "    <tr>\n",
              "      <th>Price</th>\n",
              "      <td>0.592206</td>\n",
              "      <td>0.742709</td>\n",
              "      <td>0.391684</td>\n",
              "      <td>-0.127334</td>\n",
              "      <td>-0.201990</td>\n",
              "      <td>0.115601</td>\n",
              "      <td>1.000000</td>\n",
              "    </tr>\n",
              "  </tbody>\n",
              "</table>\n",
              "</div>"
            ],
            "text/plain": [
              "                Year        HP  Cylinders  ...     mpg-C  Popularity     Price\n",
              "Year        1.000000  0.330224  -0.094361  ...  0.323442    0.204245  0.592206\n",
              "HP          0.330224  1.000000   0.740672  ... -0.562745    0.105627  0.742709\n",
              "Cylinders  -0.094361  0.740672   1.000000  ... -0.750993    0.024944  0.391684\n",
              "mpg-H       0.359681 -0.464847  -0.698031  ...  0.937958    0.081893 -0.127334\n",
              "mpg-C       0.323442 -0.562745  -0.750993  ...  1.000000    0.071619 -0.201990\n",
              "Popularity  0.204245  0.105627   0.024944  ...  0.071619    1.000000  0.115601\n",
              "Price       0.592206  0.742709   0.391684  ... -0.201990    0.115601  1.000000\n",
              "\n",
              "[7 rows x 7 columns]"
            ]
          },
          "metadata": {
            "tags": []
          },
          "execution_count": 2008
        }
      ]
    },
    {
      "cell_type": "markdown",
      "metadata": {
        "id": "xbEIF2-L6YnP",
        "colab_type": "text"
      },
      "source": [
        "By looking at the correlation matrix we observe the following points:\n",
        "1. There is high positive correlation between 'HP' and 'Price'\n",
        "2. There is high positive correlation between 'HP' and 'Cylinders'\n",
        "3. There is high negative correlation between 'mpg-H' and 'Cylinders'\n",
        "4. There is high negative correlation between 'mpg-C' and 'Cylinders' \n"
      ]
    },
    {
      "cell_type": "code",
      "metadata": {
        "id": "WSsKMxEtoWB4",
        "colab_type": "code",
        "colab": {
          "base_uri": "https://localhost:8080/",
          "height": 341
        },
        "outputId": "6a3c7fdf-0d39-46a9-9d08-d5e6a2db1517"
      },
      "source": [
        "#this gives the correlation matrix in the form of a heatmap\n",
        "plt.figure(figsize=(10,5))\n",
        "c=dataset.corr()\n",
        "sns.heatmap(c,cmap=\"BrBG\",annot=True)"
      ],
      "execution_count": 2009,
      "outputs": [
        {
          "output_type": "execute_result",
          "data": {
            "text/plain": [
              "<matplotlib.axes._subplots.AxesSubplot at 0x7f2ba883f8d0>"
            ]
          },
          "metadata": {
            "tags": []
          },
          "execution_count": 2009
        },
        {
          "output_type": "display_data",
          "data": {
            "image/png": "[encoded data removed]",
            "text/plain": [
              "<Figure size 720x360 with 2 Axes>"
            ]
          },
          "metadata": {
            "tags": [],
            "needs_background": "light"
          }
        }
      ]
    },
    {
      "cell_type": "markdown",
      "metadata": {
        "id": "msB_r2ID7LfS",
        "colab_type": "text"
      },
      "source": [
        "This is correlation matrix represented in the form of a heatmap. It looks more better"
      ]
    },
    {
      "cell_type": "markdown",
      "metadata": {
        "id": "q3tFXAugIwwv",
        "colab_type": "text"
      },
      "source": [
        "**STEP - 8: PLOTTING DIFFERENT GRAPHS FOR DIFFERENT COLUMNS AND TRYING TO FIND HOW DIFFERENT VARIABLES AFFECT THE PRICE OF THE CAR:-**"
      ]
    },
    {
      "cell_type": "code",
      "metadata": {
        "id": "hza53IjPgen_",
        "colab_type": "code",
        "colab": {
          "base_uri": "https://localhost:8080/",
          "height": 407
        },
        "outputId": "7be5b568-4327-4ff5-c179-8d865cf46490"
      },
      "source": [
        "#this gives the bar chart between the years and no. of cars sold i.e in a particular year how many cars are sold\n",
        "dataset['Year'].value_counts().plot.bar(figsize=(10,6))\n"
      ],
      "execution_count": 2010,
      "outputs": [
        {
          "output_type": "execute_result",
          "data": {
            "text/plain": [
              "<matplotlib.axes._subplots.AxesSubplot at 0x7f2b9fb8ac50>"
            ]
          },
          "metadata": {
            "tags": []
          },
          "execution_count": 2010
        },
        {
          "output_type": "display_data",
          "data": {
            "image/png": "[encoded data removed]",
            "text/plain": [
              "<Figure size 720x432 with 1 Axes>"
            ]
          },
          "metadata": {
            "tags": [],
            "needs_background": "light"
          }
        }
      ]
    },
    {
      "cell_type": "code",
      "metadata": {
        "id": "UaJ4tMDhkU4R",
        "colab_type": "code",
        "colab": {
          "base_uri": "https://localhost:8080/",
          "height": 486
        },
        "outputId": "2072835d-a8e8-48f0-f403-7935f065bc9a"
      },
      "source": [
        "#this gives the bar chart between the Vehicle Style and no. of cars sold i.e for a particular Vehicle style, how many cars are sold\n",
        "dataset['Vehicle Style'].value_counts().plot.bar(figsize=(10,6))"
      ],
      "execution_count": 2011,
      "outputs": [
        {
          "output_type": "execute_result",
          "data": {
            "text/plain": [
              "<matplotlib.axes._subplots.AxesSubplot at 0x7f2b9fad1198>"
            ]
          },
          "metadata": {
            "tags": []
          },
          "execution_count": 2011
        },
        {
          "output_type": "display_data",
          "data": {
            "image/png": "[encoded data removed]",
            "text/plain": [
              "<Figure size 720x432 with 1 Axes>"
            ]
          },
          "metadata": {
            "tags": [],
            "needs_background": "light"
          }
        }
      ]
    },
    {
      "cell_type": "code",
      "metadata": {
        "id": "MXLtxFY26kIG",
        "colab_type": "code",
        "colab": {
          "base_uri": "https://localhost:8080/",
          "height": 282
        },
        "outputId": "ff285186-84da-4951-eee1-4a3a851f35c9"
      },
      "source": [
        "#this is the scatter plot between 'HP' and 'Cylinders'\n",
        "plt.scatter(dataset['HP'],dataset['Cylinders'])"
      ],
      "execution_count": 2012,
      "outputs": [
        {
          "output_type": "execute_result",
          "data": {
            "text/plain": [
              "<matplotlib.collections.PathCollection at 0x7f2b9fa09e80>"
            ]
          },
          "metadata": {
            "tags": []
          },
          "execution_count": 2012
        },
        {
          "output_type": "display_data",
          "data": {
            "image/png": "[encoded data removed]",
            "text/plain": [
              "<Figure size 432x288 with 1 Axes>"
            ]
          },
          "metadata": {
            "tags": [],
            "needs_background": "light"
          }
        }
      ]
    },
    {
      "cell_type": "code",
      "metadata": {
        "id": "hhJ2fGLT6kCW",
        "colab_type": "code",
        "colab": {
          "base_uri": "https://localhost:8080/",
          "height": 282
        },
        "outputId": "7b74cef6-1bce-400e-90c3-86ef2eac425b"
      },
      "source": [
        "#this is the scatter plot between 'HP' and 'Price'\n",
        "#since there is a high correlation between hp and price this scatter plot is plotted\n",
        "plt.scatter(dataset['HP'],dataset['Price'])"
      ],
      "execution_count": 2013,
      "outputs": [
        {
          "output_type": "execute_result",
          "data": {
            "text/plain": [
              "<matplotlib.collections.PathCollection at 0x7f2b9f9ea5c0>"
            ]
          },
          "metadata": {
            "tags": []
          },
          "execution_count": 2013
        },
        {
          "output_type": "display_data",
          "data": {
            "image/png": "[encoded data removed]",
            "text/plain": [
              "<Figure size 432x288 with 1 Axes>"
            ]
          },
          "metadata": {
            "tags": [],
            "needs_background": "light"
          }
        }
      ]
    },
    {
      "cell_type": "code",
      "metadata": {
        "id": "JM8kI3GrqHYE",
        "colab_type": "code",
        "colab": {
          "base_uri": "https://localhost:8080/",
          "height": 367
        },
        "outputId": "7cdc4a37-10f8-4ef6-cc42-f5ada9e39c5e"
      },
      "source": [
        "#this gives the no. of cars sold for a particular Vehicle Type and a particular Drive Mode\n",
        "plt.figure(figsize=(10,5))\n",
        "sns.countplot(y='Vehicle Style',data=dataset, hue='Drive Mode')\n",
        "plt.title('Vehicle Style vs Drive Mode Type')\n",
        "plt.ylabel('Vehicle type')\n",
        "plt.xlabel('Vehicle count')"
      ],
      "execution_count": 2014,
      "outputs": [
        {
          "output_type": "execute_result",
          "data": {
            "text/plain": [
              "Text(0.5, 0, 'Vehicle count')"
            ]
          },
          "metadata": {
            "tags": []
          },
          "execution_count": 2014
        },
        {
          "output_type": "display_data",
          "data": {
            "image/png": "[encoded data removed]",
            "text/plain": [
              "<Figure size 720x360 with 1 Axes>"
            ]
          },
          "metadata": {
            "tags": [],
            "needs_background": "light"
          }
        }
      ]
    },
    {
      "cell_type": "code",
      "metadata": {
        "id": "pGi_l-34sVof",
        "colab_type": "code",
        "colab": {}
      },
      "source": [
        "#dividing the price into groups like <20k,20-39k etc\n",
        "dr1=pd.DataFrame()\n",
        "dr1=pd.cut(dataset['Price'],[0,20000,40000,60000,80000,100000,600000],labels=['<20k','20-39k','40-59k','60-79k','80-99k','>100k'],include_lowest=True)\n",
        "dr1=dr1.astype(object)\n",
        "\n",
        "\n",
        "\n"
      ],
      "execution_count": 2015,
      "outputs": []
    },
    {
      "cell_type": "code",
      "metadata": {
        "id": "HoBl0WjQvHDx",
        "colab_type": "code",
        "colab": {
          "base_uri": "https://localhost:8080/",
          "height": 390
        },
        "outputId": "fc7c5487-7b88-4417-b93b-d2c3f555a03a"
      },
      "source": [
        "#here the pie chart is plotted for the price group\n",
        "(dr1.value_counts()/len(dr1) * 100).plot.pie(figsize=(10,6))\n",
        "plt.title('Price group pie chart')"
      ],
      "execution_count": 2016,
      "outputs": [
        {
          "output_type": "execute_result",
          "data": {
            "text/plain": [
              "Text(0.5, 1.0, 'Price group pie chart')"
            ]
          },
          "metadata": {
            "tags": []
          },
          "execution_count": 2016
        },
        {
          "output_type": "display_data",
          "data": {
            "image/png": "[encoded data removed]",
            "text/plain": [
              "<Figure size 720x432 with 1 Axes>"
            ]
          },
          "metadata": {
            "tags": []
          }
        }
      ]
    },
    {
      "cell_type": "markdown",
      "metadata": {
        "id": "liKmTOLT8yLT",
        "colab_type": "text"
      },
      "source": [
        "Here we observe that majority of the price is between 20-39k from the pie chart"
      ]
    },
    {
      "cell_type": "code",
      "metadata": {
        "id": "MuM1QCDw6kAz",
        "colab_type": "code",
        "colab": {
          "base_uri": "https://localhost:8080/",
          "height": 282
        },
        "outputId": "a4812b55-2c6e-40a6-cc0b-7eb3cb5139df"
      },
      "source": [
        "#scatter plot between 'Cylinders' and 'Price'\n",
        "plt.scatter(dataset['Cylinders'],dataset['Price'])"
      ],
      "execution_count": 2017,
      "outputs": [
        {
          "output_type": "execute_result",
          "data": {
            "text/plain": [
              "<matplotlib.collections.PathCollection at 0x7f2b9f7c2d30>"
            ]
          },
          "metadata": {
            "tags": []
          },
          "execution_count": 2017
        },
        {
          "output_type": "display_data",
          "data": {
            "image/png": "[encoded data removed]",
            "text/plain": [
              "<Figure size 432x288 with 1 Axes>"
            ]
          },
          "metadata": {
            "tags": [],
            "needs_background": "light"
          }
        }
      ]
    },
    {
      "cell_type": "code",
      "metadata": {
        "id": "qGqTXgyQ6j4q",
        "colab_type": "code",
        "colab": {
          "base_uri": "https://localhost:8080/",
          "height": 282
        },
        "outputId": "fb611736-a7f3-4eca-de80-1ce367e84d7f"
      },
      "source": [
        "#scatter plot between 'mpg-H' and 'Price'\n",
        "plt.scatter(dataset['mpg-H'],dataset['Price'])"
      ],
      "execution_count": 2018,
      "outputs": [
        {
          "output_type": "execute_result",
          "data": {
            "text/plain": [
              "<matplotlib.collections.PathCollection at 0x7f2b9f7ae3c8>"
            ]
          },
          "metadata": {
            "tags": []
          },
          "execution_count": 2018
        },
        {
          "output_type": "display_data",
          "data": {
            "image/png": "[encoded data removed]",
            "text/plain": [
              "<Figure size 432x288 with 1 Axes>"
            ]
          },
          "metadata": {
            "tags": [],
            "needs_background": "light"
          }
        }
      ]
    },
    {
      "cell_type": "code",
      "metadata": {
        "id": "eV6HT-Z-6j3K",
        "colab_type": "code",
        "colab": {
          "base_uri": "https://localhost:8080/",
          "height": 282
        },
        "outputId": "34c8b4de-76d0-4a63-da8b-6ac167a0945f"
      },
      "source": [
        "plt.scatter(dataset['mpg-C'],dataset['Price'])"
      ],
      "execution_count": 2019,
      "outputs": [
        {
          "output_type": "execute_result",
          "data": {
            "text/plain": [
              "<matplotlib.collections.PathCollection at 0x7f2b9f709b00>"
            ]
          },
          "metadata": {
            "tags": []
          },
          "execution_count": 2019
        },
        {
          "output_type": "display_data",
          "data": {
            "image/png": "[encoded data removed]",
            "text/plain": [
              "<Figure size 432x288 with 1 Axes>"
            ]
          },
          "metadata": {
            "tags": [],
            "needs_background": "light"
          }
        }
      ]
    },
    {
      "cell_type": "code",
      "metadata": {
        "id": "p9yhpsLZ6jyV",
        "colab_type": "code",
        "colab": {
          "base_uri": "https://localhost:8080/",
          "height": 282
        },
        "outputId": "6b5c2c6b-f138-4acd-d209-4d3940fa9e3a"
      },
      "source": [
        "plt.scatter(dataset['Popularity'],dataset['Price'])"
      ],
      "execution_count": 2020,
      "outputs": [
        {
          "output_type": "execute_result",
          "data": {
            "text/plain": [
              "<matplotlib.collections.PathCollection at 0x7f2b9f6eae80>"
            ]
          },
          "metadata": {
            "tags": []
          },
          "execution_count": 2020
        },
        {
          "output_type": "display_data",
          "data": {
            "image/png": "[encoded data removed]",
            "text/plain": [
              "<Figure size 432x288 with 1 Axes>"
            ]
          },
          "metadata": {
            "tags": [],
            "needs_background": "light"
          }
        }
      ]
    },
    {
      "cell_type": "markdown",
      "metadata": {
        "id": "4WJAkJUz9FcF",
        "colab_type": "text"
      },
      "source": [
        "Now the exploratory data analysis (EDA) of the dataset is done. Now we need to build a ML model to predict the car prices."
      ]
    },
    {
      "cell_type": "markdown",
      "metadata": {
        "id": "ck9B4Ns-9Sys",
        "colab_type": "text"
      },
      "source": [
        "In our dataset few columns are non numeric i.e they are in the form of characters. We cannot build a regression model with non- numeric data. Sklearn only accepts numeric data. So hence we need to encode these non-numeric data to numeric form before building our ML model "
      ]
    },
    {
      "cell_type": "markdown",
      "metadata": {
        "id": "DEPlAjTDJVZE",
        "colab_type": "text"
      },
      "source": [
        "**ENCODING THE DATA:-**"
      ]
    },
    {
      "cell_type": "markdown",
      "metadata": {
        "id": "iKRaXDI9-BM-",
        "colab_type": "text"
      },
      "source": [
        "**Here Label Encoding is used to encode all the non-numeric data i.e the character data.** "
      ]
    },
    {
      "cell_type": "code",
      "metadata": {
        "id": "qf5l2m3q6js0",
        "colab_type": "code",
        "colab": {}
      },
      "source": [
        "#label encoding is done by importing the sklearn library\n",
        "Z = dataset.iloc[:,:].values\n",
        "from sklearn.preprocessing import LabelEncoder\n",
        "labelencoder_X = LabelEncoder()\n",
        "Z[:,0] = labelencoder_X.fit_transform(Z[:,0])\n",
        "Z[:,1] = labelencoder_X.fit_transform(Z[:,1])\n",
        "Z[:,3] = labelencoder_X.fit_transform(Z[:,3])\n",
        "Z[:,6] = labelencoder_X.fit_transform(Z[:,6])\n",
        "Z[:,7] = labelencoder_X.fit_transform(Z[:,7])\n",
        "Z[:,8] = labelencoder_X.fit_transform(Z[:,8])\n",
        "Z[:,9] = labelencoder_X.fit_transform(Z[:,9])\n",
        "\n",
        "\n",
        "Y = pd.DataFrame(Z)\n"
      ],
      "execution_count": 2021,
      "outputs": []
    },
    {
      "cell_type": "code",
      "metadata": {
        "id": "KZXCw_Jn-40q",
        "colab_type": "code",
        "colab": {
          "base_uri": "https://localhost:8080/",
          "height": 419
        },
        "outputId": "d9d18307-7635-4e90-feac-24127f4b3717"
      },
      "source": [
        "Y"
      ],
      "execution_count": 2022,
      "outputs": [
        {
          "output_type": "execute_result",
          "data": {
            "text/html": [
              "<div>\n",
              "<style scoped>\n",
              "    .dataframe tbody tr th:only-of-type {\n",
              "        vertical-align: middle;\n",
              "    }\n",
              "\n",
              "    .dataframe tbody tr th {\n",
              "        vertical-align: top;\n",
              "    }\n",
              "\n",
              "    .dataframe thead th {\n",
              "        text-align: right;\n",
              "    }\n",
              "</style>\n",
              "<table border=\"1\" class=\"dataframe\">\n",
              "  <thead>\n",
              "    <tr style=\"text-align: right;\">\n",
              "      <th></th>\n",
              "      <th>0</th>\n",
              "      <th>1</th>\n",
              "      <th>2</th>\n",
              "      <th>3</th>\n",
              "      <th>4</th>\n",
              "      <th>5</th>\n",
              "      <th>6</th>\n",
              "      <th>7</th>\n",
              "      <th>8</th>\n",
              "      <th>9</th>\n",
              "      <th>10</th>\n",
              "      <th>11</th>\n",
              "      <th>12</th>\n",
              "      <th>13</th>\n",
              "    </tr>\n",
              "  </thead>\n",
              "  <tbody>\n",
              "    <tr>\n",
              "      <th>0</th>\n",
              "      <td>3</td>\n",
              "      <td>3</td>\n",
              "      <td>2011</td>\n",
              "      <td>7</td>\n",
              "      <td>335</td>\n",
              "      <td>6</td>\n",
              "      <td>2</td>\n",
              "      <td>3</td>\n",
              "      <td>0</td>\n",
              "      <td>8</td>\n",
              "      <td>26</td>\n",
              "      <td>19</td>\n",
              "      <td>3916</td>\n",
              "      <td>46135</td>\n",
              "    </tr>\n",
              "    <tr>\n",
              "      <th>1</th>\n",
              "      <td>3</td>\n",
              "      <td>2</td>\n",
              "      <td>2011</td>\n",
              "      <td>7</td>\n",
              "      <td>300</td>\n",
              "      <td>6</td>\n",
              "      <td>2</td>\n",
              "      <td>3</td>\n",
              "      <td>0</td>\n",
              "      <td>6</td>\n",
              "      <td>28</td>\n",
              "      <td>19</td>\n",
              "      <td>3916</td>\n",
              "      <td>40650</td>\n",
              "    </tr>\n",
              "    <tr>\n",
              "      <th>2</th>\n",
              "      <td>3</td>\n",
              "      <td>2</td>\n",
              "      <td>2011</td>\n",
              "      <td>7</td>\n",
              "      <td>300</td>\n",
              "      <td>6</td>\n",
              "      <td>2</td>\n",
              "      <td>3</td>\n",
              "      <td>0</td>\n",
              "      <td>8</td>\n",
              "      <td>28</td>\n",
              "      <td>20</td>\n",
              "      <td>3916</td>\n",
              "      <td>36350</td>\n",
              "    </tr>\n",
              "    <tr>\n",
              "      <th>3</th>\n",
              "      <td>3</td>\n",
              "      <td>2</td>\n",
              "      <td>2011</td>\n",
              "      <td>7</td>\n",
              "      <td>230</td>\n",
              "      <td>6</td>\n",
              "      <td>2</td>\n",
              "      <td>3</td>\n",
              "      <td>0</td>\n",
              "      <td>8</td>\n",
              "      <td>28</td>\n",
              "      <td>18</td>\n",
              "      <td>3916</td>\n",
              "      <td>29450</td>\n",
              "    </tr>\n",
              "    <tr>\n",
              "      <th>4</th>\n",
              "      <td>3</td>\n",
              "      <td>2</td>\n",
              "      <td>2011</td>\n",
              "      <td>7</td>\n",
              "      <td>230</td>\n",
              "      <td>6</td>\n",
              "      <td>2</td>\n",
              "      <td>3</td>\n",
              "      <td>0</td>\n",
              "      <td>6</td>\n",
              "      <td>28</td>\n",
              "      <td>18</td>\n",
              "      <td>3916</td>\n",
              "      <td>34500</td>\n",
              "    </tr>\n",
              "    <tr>\n",
              "      <th>...</th>\n",
              "      <td>...</td>\n",
              "      <td>...</td>\n",
              "      <td>...</td>\n",
              "      <td>...</td>\n",
              "      <td>...</td>\n",
              "      <td>...</td>\n",
              "      <td>...</td>\n",
              "      <td>...</td>\n",
              "      <td>...</td>\n",
              "      <td>...</td>\n",
              "      <td>...</td>\n",
              "      <td>...</td>\n",
              "      <td>...</td>\n",
              "      <td>...</td>\n",
              "    </tr>\n",
              "    <tr>\n",
              "      <th>8633</th>\n",
              "      <td>0</td>\n",
              "      <td>638</td>\n",
              "      <td>2012</td>\n",
              "      <td>7</td>\n",
              "      <td>300</td>\n",
              "      <td>6</td>\n",
              "      <td>1</td>\n",
              "      <td>0</td>\n",
              "      <td>2</td>\n",
              "      <td>2</td>\n",
              "      <td>23</td>\n",
              "      <td>16</td>\n",
              "      <td>204</td>\n",
              "      <td>46120</td>\n",
              "    </tr>\n",
              "    <tr>\n",
              "      <th>8634</th>\n",
              "      <td>0</td>\n",
              "      <td>638</td>\n",
              "      <td>2012</td>\n",
              "      <td>7</td>\n",
              "      <td>300</td>\n",
              "      <td>6</td>\n",
              "      <td>1</td>\n",
              "      <td>0</td>\n",
              "      <td>2</td>\n",
              "      <td>2</td>\n",
              "      <td>23</td>\n",
              "      <td>16</td>\n",
              "      <td>204</td>\n",
              "      <td>56670</td>\n",
              "    </tr>\n",
              "    <tr>\n",
              "      <th>8635</th>\n",
              "      <td>0</td>\n",
              "      <td>638</td>\n",
              "      <td>2012</td>\n",
              "      <td>7</td>\n",
              "      <td>300</td>\n",
              "      <td>6</td>\n",
              "      <td>1</td>\n",
              "      <td>0</td>\n",
              "      <td>2</td>\n",
              "      <td>2</td>\n",
              "      <td>23</td>\n",
              "      <td>16</td>\n",
              "      <td>204</td>\n",
              "      <td>50620</td>\n",
              "    </tr>\n",
              "    <tr>\n",
              "      <th>8636</th>\n",
              "      <td>0</td>\n",
              "      <td>638</td>\n",
              "      <td>2013</td>\n",
              "      <td>6</td>\n",
              "      <td>300</td>\n",
              "      <td>6</td>\n",
              "      <td>1</td>\n",
              "      <td>0</td>\n",
              "      <td>2</td>\n",
              "      <td>2</td>\n",
              "      <td>23</td>\n",
              "      <td>16</td>\n",
              "      <td>204</td>\n",
              "      <td>50920</td>\n",
              "    </tr>\n",
              "    <tr>\n",
              "      <th>8637</th>\n",
              "      <td>19</td>\n",
              "      <td>639</td>\n",
              "      <td>2006</td>\n",
              "      <td>8</td>\n",
              "      <td>221</td>\n",
              "      <td>6</td>\n",
              "      <td>1</td>\n",
              "      <td>2</td>\n",
              "      <td>2</td>\n",
              "      <td>14</td>\n",
              "      <td>26</td>\n",
              "      <td>17</td>\n",
              "      <td>61</td>\n",
              "      <td>28995</td>\n",
              "    </tr>\n",
              "  </tbody>\n",
              "</table>\n",
              "<p>8638 rows × 14 columns</p>\n",
              "</div>"
            ],
            "text/plain": [
              "       0    1     2  3    4  5  6  7  8   9  10  11    12     13\n",
              "0      3    3  2011  7  335  6  2  3  0   8  26  19  3916  46135\n",
              "1      3    2  2011  7  300  6  2  3  0   6  28  19  3916  40650\n",
              "2      3    2  2011  7  300  6  2  3  0   8  28  20  3916  36350\n",
              "3      3    2  2011  7  230  6  2  3  0   8  28  18  3916  29450\n",
              "4      3    2  2011  7  230  6  2  3  0   6  28  18  3916  34500\n",
              "...   ..  ...   ... ..  ... .. .. .. ..  ..  ..  ..   ...    ...\n",
              "8633   0  638  2012  7  300  6  1  0  2   2  23  16   204  46120\n",
              "8634   0  638  2012  7  300  6  1  0  2   2  23  16   204  56670\n",
              "8635   0  638  2012  7  300  6  1  0  2   2  23  16   204  50620\n",
              "8636   0  638  2013  6  300  6  1  0  2   2  23  16   204  50920\n",
              "8637  19  639  2006  8  221  6  1  2  2  14  26  17    61  28995\n",
              "\n",
              "[8638 rows x 14 columns]"
            ]
          },
          "metadata": {
            "tags": []
          },
          "execution_count": 2022
        }
      ]
    },
    {
      "cell_type": "code",
      "metadata": {
        "id": "AAP9LX3VqBTD",
        "colab_type": "code",
        "colab": {
          "base_uri": "https://localhost:8080/",
          "height": 204
        },
        "outputId": "947c8d71-de35-4f80-8662-958d58cd6ed3"
      },
      "source": [
        "Y.head()"
      ],
      "execution_count": 2023,
      "outputs": [
        {
          "output_type": "execute_result",
          "data": {
            "text/html": [
              "<div>\n",
              "<style scoped>\n",
              "    .dataframe tbody tr th:only-of-type {\n",
              "        vertical-align: middle;\n",
              "    }\n",
              "\n",
              "    .dataframe tbody tr th {\n",
              "        vertical-align: top;\n",
              "    }\n",
              "\n",
              "    .dataframe thead th {\n",
              "        text-align: right;\n",
              "    }\n",
              "</style>\n",
              "<table border=\"1\" class=\"dataframe\">\n",
              "  <thead>\n",
              "    <tr style=\"text-align: right;\">\n",
              "      <th></th>\n",
              "      <th>0</th>\n",
              "      <th>1</th>\n",
              "      <th>2</th>\n",
              "      <th>3</th>\n",
              "      <th>4</th>\n",
              "      <th>5</th>\n",
              "      <th>6</th>\n",
              "      <th>7</th>\n",
              "      <th>8</th>\n",
              "      <th>9</th>\n",
              "      <th>10</th>\n",
              "      <th>11</th>\n",
              "      <th>12</th>\n",
              "      <th>13</th>\n",
              "    </tr>\n",
              "  </thead>\n",
              "  <tbody>\n",
              "    <tr>\n",
              "      <th>0</th>\n",
              "      <td>3</td>\n",
              "      <td>3</td>\n",
              "      <td>2011</td>\n",
              "      <td>7</td>\n",
              "      <td>335</td>\n",
              "      <td>6</td>\n",
              "      <td>2</td>\n",
              "      <td>3</td>\n",
              "      <td>0</td>\n",
              "      <td>8</td>\n",
              "      <td>26</td>\n",
              "      <td>19</td>\n",
              "      <td>3916</td>\n",
              "      <td>46135</td>\n",
              "    </tr>\n",
              "    <tr>\n",
              "      <th>1</th>\n",
              "      <td>3</td>\n",
              "      <td>2</td>\n",
              "      <td>2011</td>\n",
              "      <td>7</td>\n",
              "      <td>300</td>\n",
              "      <td>6</td>\n",
              "      <td>2</td>\n",
              "      <td>3</td>\n",
              "      <td>0</td>\n",
              "      <td>6</td>\n",
              "      <td>28</td>\n",
              "      <td>19</td>\n",
              "      <td>3916</td>\n",
              "      <td>40650</td>\n",
              "    </tr>\n",
              "    <tr>\n",
              "      <th>2</th>\n",
              "      <td>3</td>\n",
              "      <td>2</td>\n",
              "      <td>2011</td>\n",
              "      <td>7</td>\n",
              "      <td>300</td>\n",
              "      <td>6</td>\n",
              "      <td>2</td>\n",
              "      <td>3</td>\n",
              "      <td>0</td>\n",
              "      <td>8</td>\n",
              "      <td>28</td>\n",
              "      <td>20</td>\n",
              "      <td>3916</td>\n",
              "      <td>36350</td>\n",
              "    </tr>\n",
              "    <tr>\n",
              "      <th>3</th>\n",
              "      <td>3</td>\n",
              "      <td>2</td>\n",
              "      <td>2011</td>\n",
              "      <td>7</td>\n",
              "      <td>230</td>\n",
              "      <td>6</td>\n",
              "      <td>2</td>\n",
              "      <td>3</td>\n",
              "      <td>0</td>\n",
              "      <td>8</td>\n",
              "      <td>28</td>\n",
              "      <td>18</td>\n",
              "      <td>3916</td>\n",
              "      <td>29450</td>\n",
              "    </tr>\n",
              "    <tr>\n",
              "      <th>4</th>\n",
              "      <td>3</td>\n",
              "      <td>2</td>\n",
              "      <td>2011</td>\n",
              "      <td>7</td>\n",
              "      <td>230</td>\n",
              "      <td>6</td>\n",
              "      <td>2</td>\n",
              "      <td>3</td>\n",
              "      <td>0</td>\n",
              "      <td>6</td>\n",
              "      <td>28</td>\n",
              "      <td>18</td>\n",
              "      <td>3916</td>\n",
              "      <td>34500</td>\n",
              "    </tr>\n",
              "  </tbody>\n",
              "</table>\n",
              "</div>"
            ],
            "text/plain": [
              "   0  1     2  3    4  5  6  7  8  9  10  11    12     13\n",
              "0  3  3  2011  7  335  6  2  3  0  8  26  19  3916  46135\n",
              "1  3  2  2011  7  300  6  2  3  0  6  28  19  3916  40650\n",
              "2  3  2  2011  7  300  6  2  3  0  8  28  20  3916  36350\n",
              "3  3  2  2011  7  230  6  2  3  0  8  28  18  3916  29450\n",
              "4  3  2  2011  7  230  6  2  3  0  6  28  18  3916  34500"
            ]
          },
          "metadata": {
            "tags": []
          },
          "execution_count": 2023
        }
      ]
    },
    {
      "cell_type": "markdown",
      "metadata": {
        "id": "HmFcrITj-KXb",
        "colab_type": "text"
      },
      "source": [
        "**So hence here we observe that all the columns are in the form of numbers and we have encoded all the values successfully. Now we can pass these values to build our ML model.**"
      ]
    },
    {
      "cell_type": "code",
      "metadata": {
        "id": "fCBieqlUekyN",
        "colab_type": "code",
        "colab": {
          "base_uri": "https://localhost:8080/",
          "height": 153
        },
        "outputId": "e5877bc0-f2d0-40b3-c355-d0a1d5a3179e"
      },
      "source": [
        "#all the columns except the price column are the independent variables hence it is stored in X\n",
        "#only the price column is a dependent variable hence it is stored in y\n",
        "X = Y[[0,1,2,3,4,5,6,7,8,9,10,11,12]].values\n",
        "y = Y[13].values\n",
        "X,y\n",
        "\n"
      ],
      "execution_count": 2024,
      "outputs": [
        {
          "output_type": "execute_result",
          "data": {
            "text/plain": [
              "(array([[3, 3, 2011, ..., 26, 19, 3916],\n",
              "        [3, 2, 2011, ..., 28, 19, 3916],\n",
              "        [3, 2, 2011, ..., 28, 20, 3916],\n",
              "        ...,\n",
              "        [0, 638, 2012, ..., 23, 16, 204],\n",
              "        [0, 638, 2013, ..., 23, 16, 204],\n",
              "        [19, 639, 2006, ..., 26, 17, 61]], dtype=object),\n",
              " array([46135, 40650, 36350, ..., 50620, 50920, 28995], dtype=object))"
            ]
          },
          "metadata": {
            "tags": []
          },
          "execution_count": 2024
        }
      ]
    },
    {
      "cell_type": "markdown",
      "metadata": {
        "id": "IpOP6CK5-uz_",
        "colab_type": "text"
      },
      "source": [
        "Here we observe that the dependent variables and the independent variable is displayed"
      ]
    },
    {
      "cell_type": "markdown",
      "metadata": {
        "id": "Zdk9lI1u-2yu",
        "colab_type": "text"
      },
      "source": [
        "Next we also need to scale the data for the effecient model building"
      ]
    },
    {
      "cell_type": "markdown",
      "metadata": {
        "id": "PPyAiqFlJd12",
        "colab_type": "text"
      },
      "source": [
        "**SCALING THE DATA:-**"
      ]
    },
    {
      "cell_type": "code",
      "metadata": {
        "id": "QqpKSF6JeLs5",
        "colab_type": "code",
        "colab": {}
      },
      "source": [
        "#the data is scaled using the sklearn library\n",
        "from sklearn.preprocessing import StandardScaler    \n",
        "st_x= StandardScaler()  \n",
        "st_y= StandardScaler()  \n",
        "X= st_x.fit_transform(X)    \n",
        "y= st_x.fit_transform(y.reshape(-1,1)) "
      ],
      "execution_count": 2025,
      "outputs": []
    },
    {
      "cell_type": "markdown",
      "metadata": {
        "id": "RMyDkixR_Eff",
        "colab_type": "text"
      },
      "source": [
        "Now the data is scaled. Next we split the data into train and test in the 80:20 ratio"
      ]
    },
    {
      "cell_type": "markdown",
      "metadata": {
        "id": "AOYcBP47JhYu",
        "colab_type": "text"
      },
      "source": [
        "**STEP - 9 & 10: SPLITTING THE DATASET INTO THE 80:20 RATIO AND BUILDING THE ML MODEL, TRYING OUT VARIOUS ML ALGORITHMS AND CHECKING THE PERFORMANCE:-**"
      ]
    },
    {
      "cell_type": "code",
      "metadata": {
        "id": "Pb8hd8wkelEZ",
        "colab_type": "code",
        "colab": {}
      },
      "source": [
        "#splitting the data in the 80:20 ratio using sklearn library\n",
        "from sklearn.model_selection import train_test_split\n",
        "X_train, X_test, y_train, y_test = train_test_split(X, y, test_size = 0.20, random_state=0)"
      ],
      "execution_count": 2026,
      "outputs": []
    },
    {
      "cell_type": "markdown",
      "metadata": {
        "id": "ZBkDfR05_Qhi",
        "colab_type": "text"
      },
      "source": [
        "Hence X_train and y_train contain 80% of the data and X_test and y_test contain 20% of the data"
      ]
    },
    {
      "cell_type": "markdown",
      "metadata": {
        "id": "_8hfRqKs_fKz",
        "colab_type": "text"
      },
      "source": [
        "**Now we apply different ML algorithms to build our ML model and predict the results which are shown below:**"
      ]
    },
    {
      "cell_type": "markdown",
      "metadata": {
        "id": "NLwj4wkVLHH-",
        "colab_type": "text"
      },
      "source": [
        "The algorithms which I am going to apply are -\n",
        "1. Linear Regression\n",
        "2. Support Vector Machines\n",
        "3. Random Forest"
      ]
    },
    {
      "cell_type": "markdown",
      "metadata": {
        "id": "Ygdz2tyNfoC_",
        "colab_type": "text"
      },
      "source": [
        "**LINEAR REGRESSION**"
      ]
    },
    {
      "cell_type": "code",
      "metadata": {
        "id": "9D4ENDIeLSOB",
        "colab_type": "code",
        "colab": {
          "base_uri": "https://localhost:8080/",
          "height": 34
        },
        "outputId": "a7b75c3c-9789-4a74-d9b6-bfbd831424c3"
      },
      "source": [
        "#fitting Linear Regression model to the training data\n",
        "from sklearn.linear_model import LinearRegression\n",
        "regressor = LinearRegression()  \n",
        "regressor.fit(X_train, y_train)"
      ],
      "execution_count": 2027,
      "outputs": [
        {
          "output_type": "execute_result",
          "data": {
            "text/plain": [
              "LinearRegression(copy_X=True, fit_intercept=True, n_jobs=None, normalize=False)"
            ]
          },
          "metadata": {
            "tags": []
          },
          "execution_count": 2027
        }
      ]
    },
    {
      "cell_type": "code",
      "metadata": {
        "id": "bfEIbJLMLTCt",
        "colab_type": "code",
        "colab": {
          "base_uri": "https://localhost:8080/",
          "height": 136
        },
        "outputId": "cf8a1d50-ff7b-4b74-d979-b7dd9299fc97"
      },
      "source": [
        "#predicting the prices after doing linear regression\n",
        "y_pred = regressor.predict(X_test)\n",
        "y_pred\n"
      ],
      "execution_count": 2028,
      "outputs": [
        {
          "output_type": "execute_result",
          "data": {
            "text/plain": [
              "array([[ 0.54522653],\n",
              "       [ 1.17275251],\n",
              "       [ 1.02608835],\n",
              "       ...,\n",
              "       [-1.42417172],\n",
              "       [-1.36564978],\n",
              "       [ 1.02283059]])"
            ]
          },
          "metadata": {
            "tags": []
          },
          "execution_count": 2028
        }
      ]
    },
    {
      "cell_type": "markdown",
      "metadata": {
        "id": "kkgnn-ip__pL",
        "colab_type": "text"
      },
      "source": [
        "So here we see that all the prices predicted by the Linear Regression model are stored in y_pred and is displayed"
      ]
    },
    {
      "cell_type": "code",
      "metadata": {
        "id": "HCv9g29h_78P",
        "colab_type": "code",
        "colab": {
          "base_uri": "https://localhost:8080/",
          "height": 282
        },
        "outputId": "97ba16d4-a135-42d3-ffce-fc849d7d51b5"
      },
      "source": [
        "#scatter plot between test prices and predicted prices\n",
        "plt.scatter(y_test,y_pred)"
      ],
      "execution_count": 2029,
      "outputs": [
        {
          "output_type": "execute_result",
          "data": {
            "text/plain": [
              "<matplotlib.collections.PathCollection at 0x7f2b9f531d68>"
            ]
          },
          "metadata": {
            "tags": []
          },
          "execution_count": 2029
        },
        {
          "output_type": "display_data",
          "data": {
            "image/png": "[encoded data removed]",
            "text/plain": [
              "<Figure size 432x288 with 1 Axes>"
            ]
          },
          "metadata": {
            "tags": [],
            "needs_background": "light"
          }
        }
      ]
    },
    {
      "cell_type": "code",
      "metadata": {
        "id": "W6NTT1y_LT9v",
        "colab_type": "code",
        "colab": {
          "base_uri": "https://localhost:8080/",
          "height": 285
        },
        "outputId": "ae6beeca-39fa-41eb-ccc3-9bf4e68732ee"
      },
      "source": [
        "#dist plot between test prices and predicted prices\n",
        "sns.distplot((y_test-y_pred),bins=50)"
      ],
      "execution_count": 2030,
      "outputs": [
        {
          "output_type": "execute_result",
          "data": {
            "text/plain": [
              "<matplotlib.axes._subplots.AxesSubplot at 0x7f2b9f4e72e8>"
            ]
          },
          "metadata": {
            "tags": []
          },
          "execution_count": 2030
        },
        {
          "output_type": "display_data",
          "data": {
            "image/png": "[encoded data removed]",
            "text/plain": [
              "<Figure size 432x288 with 1 Axes>"
            ]
          },
          "metadata": {
            "tags": [],
            "needs_background": "light"
          }
        }
      ]
    },
    {
      "cell_type": "code",
      "metadata": {
        "id": "y_4VLPyrLUs-",
        "colab_type": "code",
        "colab": {
          "base_uri": "https://localhost:8080/",
          "height": 68
        },
        "outputId": "48d1eafd-ac38-4987-e613-3b338ea5391b"
      },
      "source": [
        "#calculating mean absolute error, root mean square error and r2 score using the metics from sklearn library\n",
        "from sklearn import metrics\n",
        "mae = metrics.mean_absolute_error(y_test,y_pred)\n",
        "rmse = np.sqrt(metrics.mean_squared_error(y_test,y_pred))     \n",
        "r2 = metrics.r2_score(y_test,y_pred)  \n",
        "print(mae)\n",
        "print(rmse)\n",
        "print(r2)\n"
      ],
      "execution_count": 2031,
      "outputs": [
        {
          "output_type": "stream",
          "text": [
            "0.4160886116799633\n",
            "0.5511745337997189\n",
            "0.6998772351265817\n"
          ],
          "name": "stdout"
        }
      ]
    },
    {
      "cell_type": "code",
      "metadata": {
        "id": "Aj8vx2lsczYf",
        "colab_type": "code",
        "colab": {
          "base_uri": "https://localhost:8080/",
          "height": 34
        },
        "outputId": "77e119f2-3841-4085-d773-88690a0999a9"
      },
      "source": [
        "print(\"Test Accuracy = \", regressor.score(X_test, y_test))"
      ],
      "execution_count": 2032,
      "outputs": [
        {
          "output_type": "stream",
          "text": [
            "Test Accuracy =  0.6998772351265817\n"
          ],
          "name": "stdout"
        }
      ]
    },
    {
      "cell_type": "markdown",
      "metadata": {
        "id": "jHkC8QS1AmgS",
        "colab_type": "text"
      },
      "source": [
        "Hence here we observe that the **test accuracy for Linear Regression is 0.6998**. So **Linear Regression has predicted 69% accurately. (approx. 70%)**."
      ]
    },
    {
      "cell_type": "markdown",
      "metadata": {
        "id": "BMZYSPdqf0NX",
        "colab_type": "text"
      },
      "source": [
        "**SUPPORT VECTOR MACHINES**"
      ]
    },
    {
      "cell_type": "code",
      "metadata": {
        "id": "Lz3pdz1QLUYk",
        "colab_type": "code",
        "colab": {
          "base_uri": "https://localhost:8080/",
          "height": 105
        },
        "outputId": "cfb1e079-8350-48ec-ab24-3b0fcbe70316"
      },
      "source": [
        "#fitting support vector machines to the training data\n",
        "from sklearn.svm import SVR \n",
        "support = SVR(kernel = 'rbf') \n",
        "support.fit(X_train, y_train)"
      ],
      "execution_count": 2033,
      "outputs": [
        {
          "output_type": "stream",
          "text": [
            "/usr/local/lib/python3.6/dist-packages/sklearn/utils/validation.py:760: DataConversionWarning: A column-vector y was passed when a 1d array was expected. Please change the shape of y to (n_samples, ), for example using ravel().\n",
            "  y = column_or_1d(y, warn=True)\n"
          ],
          "name": "stderr"
        },
        {
          "output_type": "execute_result",
          "data": {
            "text/plain": [
              "SVR(C=1.0, cache_size=200, coef0=0.0, degree=3, epsilon=0.1, gamma='scale',\n",
              "    kernel='rbf', max_iter=-1, shrinking=True, tol=0.001, verbose=False)"
            ]
          },
          "metadata": {
            "tags": []
          },
          "execution_count": 2033
        }
      ]
    },
    {
      "cell_type": "code",
      "metadata": {
        "id": "V40LFi10LULI",
        "colab_type": "code",
        "colab": {
          "base_uri": "https://localhost:8080/",
          "height": 51
        },
        "outputId": "81607f19-0990-41b9-f0c4-e26f0076bb3a"
      },
      "source": [
        "#predicting the prices after doing SVR\n",
        "y_pred = support.predict(X_test)                     \n",
        "y_pred"
      ],
      "execution_count": 2034,
      "outputs": [
        {
          "output_type": "execute_result",
          "data": {
            "text/plain": [
              "array([ 0.98897106,  1.19326531,  0.35498541, ..., -1.04175092,\n",
              "       -0.94142558,  1.00812384])"
            ]
          },
          "metadata": {
            "tags": []
          },
          "execution_count": 2034
        }
      ]
    },
    {
      "cell_type": "markdown",
      "metadata": {
        "id": "Bw695pfUBMMC",
        "colab_type": "text"
      },
      "source": [
        "So here we see that all the prices predicted by the Support vector regressor model are stored in y_pred and is displayed"
      ]
    },
    {
      "cell_type": "code",
      "metadata": {
        "id": "pbJGtuePLTlD",
        "colab_type": "code",
        "colab": {
          "base_uri": "https://localhost:8080/",
          "height": 282
        },
        "outputId": "f39e38bc-9bb4-4cd6-e1d6-01d218981a30"
      },
      "source": [
        "plt.scatter(y_test,y_pred)"
      ],
      "execution_count": 2035,
      "outputs": [
        {
          "output_type": "execute_result",
          "data": {
            "text/plain": [
              "<matplotlib.collections.PathCollection at 0x7f2b9f3f3a58>"
            ]
          },
          "metadata": {
            "tags": []
          },
          "execution_count": 2035
        },
        {
          "output_type": "display_data",
          "data": {
            "image/png": "[encoded data removed]",
            "text/plain": [
              "<Figure size 432x288 with 1 Axes>"
            ]
          },
          "metadata": {
            "tags": [],
            "needs_background": "light"
          }
        }
      ]
    },
    {
      "cell_type": "code",
      "metadata": {
        "id": "tl0UT0R0LTWD",
        "colab_type": "code",
        "colab": {
          "base_uri": "https://localhost:8080/",
          "height": 282
        },
        "outputId": "b76ac41b-52b6-411e-8d76-d3ee38bef181"
      },
      "source": [
        "sns.distplot((y_test-y_pred),bins=50)"
      ],
      "execution_count": 2036,
      "outputs": [
        {
          "output_type": "execute_result",
          "data": {
            "text/plain": [
              "<matplotlib.axes._subplots.AxesSubplot at 0x7f2b9f39edd8>"
            ]
          },
          "metadata": {
            "tags": []
          },
          "execution_count": 2036
        },
        {
          "output_type": "display_data",
          "data": {
            "image/png": "[encoded data removed]",
            "text/plain": [
              "<Figure size 432x288 with 1 Axes>"
            ]
          },
          "metadata": {
            "tags": [],
            "needs_background": "light"
          }
        }
      ]
    },
    {
      "cell_type": "code",
      "metadata": {
        "id": "yei-Jv54LSli",
        "colab_type": "code",
        "colab": {
          "base_uri": "https://localhost:8080/",
          "height": 68
        },
        "outputId": "bf651006-72ea-454e-ba3f-f8ed57d5b010"
      },
      "source": [
        "from sklearn import metrics\n",
        "mae = metrics.mean_absolute_error(y_test,y_pred)\n",
        "rmse = np.sqrt(metrics.mean_squared_error(y_test,y_pred))     \n",
        "r2 = metrics.r2_score(y_test,y_pred)  \n",
        "print(mae)\n",
        "print(rmse)\n",
        "print(r2)\n"
      ],
      "execution_count": 2037,
      "outputs": [
        {
          "output_type": "stream",
          "text": [
            "0.23866460981027354\n",
            "0.34576802252889766\n",
            "0.8818890115058492\n"
          ],
          "name": "stdout"
        }
      ]
    },
    {
      "cell_type": "code",
      "metadata": {
        "id": "9Bat9ebwLSWW",
        "colab_type": "code",
        "colab": {
          "base_uri": "https://localhost:8080/",
          "height": 34
        },
        "outputId": "41cd53e6-fce5-475c-cc4f-298d6ca49f6c"
      },
      "source": [
        "print(\"Test Accuracy = \", support.score(X_test, y_test))\n"
      ],
      "execution_count": 2038,
      "outputs": [
        {
          "output_type": "stream",
          "text": [
            "Test Accuracy =  0.8818890115058492\n"
          ],
          "name": "stdout"
        }
      ]
    },
    {
      "cell_type": "markdown",
      "metadata": {
        "id": "sjzUVtRZBbBE",
        "colab_type": "text"
      },
      "source": [
        "Hence here we observe that the **test accuracy for SVM is 0.881**. So this has more accuracy and has more accurately predicted than Linear Regression. **So SVM has predicted 88% accurately**.\n",
        "\n"
      ]
    },
    {
      "cell_type": "markdown",
      "metadata": {
        "id": "Y9JIFCZqf9LQ",
        "colab_type": "text"
      },
      "source": [
        "**RANDOM FOREST REGRESSOR**"
      ]
    },
    {
      "cell_type": "code",
      "metadata": {
        "id": "Nyl5gm8Helb7",
        "colab_type": "code",
        "colab": {}
      },
      "source": [
        "from sklearn.ensemble import RandomForestRegressor"
      ],
      "execution_count": 2039,
      "outputs": []
    },
    {
      "cell_type": "code",
      "metadata": {
        "id": "88wTpiUcelzL",
        "colab_type": "code",
        "colab": {}
      },
      "source": [
        "model=RandomForestRegressor(n_estimators=300)"
      ],
      "execution_count": 2040,
      "outputs": []
    },
    {
      "cell_type": "code",
      "metadata": {
        "id": "BzOR189RemJm",
        "colab_type": "code",
        "colab": {
          "base_uri": "https://localhost:8080/",
          "height": 190
        },
        "outputId": "569f5813-c9e2-4aab-d191-3315d9c3b8b0"
      },
      "source": [
        "#fitting random forest to the training data\n",
        "model.fit(X_train,y_train)"
      ],
      "execution_count": 2041,
      "outputs": [
        {
          "output_type": "stream",
          "text": [
            "/usr/local/lib/python3.6/dist-packages/ipykernel_launcher.py:2: DataConversionWarning: A column-vector y was passed when a 1d array was expected. Please change the shape of y to (n_samples,), for example using ravel().\n",
            "  \n"
          ],
          "name": "stderr"
        },
        {
          "output_type": "execute_result",
          "data": {
            "text/plain": [
              "RandomForestRegressor(bootstrap=True, ccp_alpha=0.0, criterion='mse',\n",
              "                      max_depth=None, max_features='auto', max_leaf_nodes=None,\n",
              "                      max_samples=None, min_impurity_decrease=0.0,\n",
              "                      min_impurity_split=None, min_samples_leaf=1,\n",
              "                      min_samples_split=2, min_weight_fraction_leaf=0.0,\n",
              "                      n_estimators=300, n_jobs=None, oob_score=False,\n",
              "                      random_state=None, verbose=0, warm_start=False)"
            ]
          },
          "metadata": {
            "tags": []
          },
          "execution_count": 2041
        }
      ]
    },
    {
      "cell_type": "code",
      "metadata": {
        "id": "y978BQi0el_S",
        "colab_type": "code",
        "colab": {
          "base_uri": "https://localhost:8080/",
          "height": 51
        },
        "outputId": "33d81702-9baf-443c-9f3e-c6fd7a54dd6a"
      },
      "source": [
        "#predicting the prices after doing random forest\n",
        "y_pred=model.predict(X_test)                     \n",
        "y_pred"
      ],
      "execution_count": 2042,
      "outputs": [
        {
          "output_type": "execute_result",
          "data": {
            "text/plain": [
              "array([ 1.48024009,  1.08909286,  0.28869958, ..., -1.06205808,\n",
              "       -0.69211309,  0.96790369])"
            ]
          },
          "metadata": {
            "tags": []
          },
          "execution_count": 2042
        }
      ]
    },
    {
      "cell_type": "markdown",
      "metadata": {
        "id": "DaB398n4Cbq3",
        "colab_type": "text"
      },
      "source": [
        "So here we see that all the prices predicted after implemeting random forest algorithm are stored in y_pred and is displayed"
      ]
    },
    {
      "cell_type": "code",
      "metadata": {
        "id": "5gGPu6r9ccTn",
        "colab_type": "code",
        "colab": {
          "base_uri": "https://localhost:8080/",
          "height": 282
        },
        "outputId": "b39e7fd3-4dd3-4387-a71e-83c7e749b728"
      },
      "source": [
        "plt.scatter(y_test,y_pred)"
      ],
      "execution_count": 2043,
      "outputs": [
        {
          "output_type": "execute_result",
          "data": {
            "text/plain": [
              "<matplotlib.collections.PathCollection at 0x7f2b9f25d278>"
            ]
          },
          "metadata": {
            "tags": []
          },
          "execution_count": 2043
        },
        {
          "output_type": "display_data",
          "data": {
            "image/png": "[encoded data removed]",
            "text/plain": [
              "<Figure size 432x288 with 1 Axes>"
            ]
          },
          "metadata": {
            "tags": [],
            "needs_background": "light"
          }
        }
      ]
    },
    {
      "cell_type": "code",
      "metadata": {
        "id": "V90LMtjhcdhv",
        "colab_type": "code",
        "colab": {
          "base_uri": "https://localhost:8080/",
          "height": 282
        },
        "outputId": "cf7b335d-f9c0-4dd4-f734-6423685df76f"
      },
      "source": [
        "sns.distplot((y_test-y_pred),bins=50)"
      ],
      "execution_count": 2044,
      "outputs": [
        {
          "output_type": "execute_result",
          "data": {
            "text/plain": [
              "<matplotlib.axes._subplots.AxesSubplot at 0x7f2b9f20cc88>"
            ]
          },
          "metadata": {
            "tags": []
          },
          "execution_count": 2044
        },
        {
          "output_type": "display_data",
          "data": {
            "image/png": "[encoded data removed]",
            "text/plain": [
              "<Figure size 432x288 with 1 Axes>"
            ]
          },
          "metadata": {
            "tags": [],
            "needs_background": "light"
          }
        }
      ]
    },
    {
      "cell_type": "code",
      "metadata": {
        "id": "blw60kgwCvPo",
        "colab_type": "code",
        "colab": {
          "base_uri": "https://localhost:8080/",
          "height": 68
        },
        "outputId": "681a7ae7-b80c-4dd9-cae3-374acaaadeae"
      },
      "source": [
        "from sklearn import metrics\n",
        "mae = metrics.mean_absolute_error(y_test,y_pred)\n",
        "rmse = np.sqrt(metrics.mean_squared_error(y_test,y_pred))     \n",
        "r2 = metrics.r2_score(y_test,y_pred)  \n",
        "print(mae)\n",
        "print(rmse)\n",
        "print(r2)\n"
      ],
      "execution_count": 2045,
      "outputs": [
        {
          "output_type": "stream",
          "text": [
            "0.16553230630722968\n",
            "0.2283531873617191\n",
            "0.9484848691095719\n"
          ],
          "name": "stdout"
        }
      ]
    },
    {
      "cell_type": "code",
      "metadata": {
        "id": "aVai5QkEcdIe",
        "colab_type": "code",
        "colab": {
          "base_uri": "https://localhost:8080/",
          "height": 34
        },
        "outputId": "6d33f019-f9bc-4dc5-ef92-cae73a25bf10"
      },
      "source": [
        "print(\"Test Accuracy = \", model.score(X_test, y_test))"
      ],
      "execution_count": 2046,
      "outputs": [
        {
          "output_type": "stream",
          "text": [
            "Test Accuracy =  0.9484848691095719\n"
          ],
          "name": "stdout"
        }
      ]
    },
    {
      "cell_type": "markdown",
      "metadata": {
        "id": "gq1KQVSSC346",
        "colab_type": "text"
      },
      "source": [
        "Hence here we observe that the **test accuracy for Random Forest is 0.94848**. So this has more accuracy and has more predicted than Linear Regression and SVM. **So Random Forest has predicted 94% accurately (approx 95%)**. "
      ]
    },
    {
      "cell_type": "markdown",
      "metadata": {
        "id": "tA069coRKskI",
        "colab_type": "text"
      },
      "source": [
        "**Hence the final conclusion is Random forest is giving the best prediction when compared to all the other algorithms.**"
      ]
    },
    {
      "cell_type": "code",
      "metadata": {
        "id": "gHf3QFQ0JUI3",
        "colab_type": "code",
        "colab": {}
      },
      "source": [
        ""
      ],
      "execution_count": 2046,
      "outputs": []
    }
  ]
}